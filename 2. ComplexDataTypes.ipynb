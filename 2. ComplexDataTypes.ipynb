{
 "cells": [
  {
   "cell_type": "markdown",
   "metadata": {},
   "source": [
    "# List"
   ]
  },
  {
   "cell_type": "raw",
   "metadata": {},
   "source": [
    "1. Lists are the most versatile of Python's compound data types. \n",
    "\n",
    "2. A list contains items separated by commas and enclosed within square brackets [].\n",
    "\n",
    "3. One difference between them is that all the items belonging to a list can be of different data type\n",
    "\n",
    "4. Lists need not be homogeneous always which makes it the most powerful tool in Python. A single list may contain DataTypes like Integers, Strings, as well as Objects.\n",
    "\n",
    "5. Lists are mutable, and hence, they can be altered even after their creation.\n",
    "\n",
    "6. List in Python are ordered and have a definite count. \n",
    "\n",
    "7. The elements in a list are indexed according to a definite sequence and the indexing of a list is done with 0 being the first index.\n",
    "\n",
    "8. Each element in the list has its definite place in the list, which allows duplicating of elements in the list, with each element having its own distinct place and credibility."
   ]
  },
  {
   "cell_type": "markdown",
   "metadata": {},
   "source": [
    "## Creating list"
   ]
  },
  {
   "cell_type": "code",
   "execution_count": 1,
   "metadata": {},
   "outputs": [],
   "source": [
    "# creating an empty list\n",
    "\n",
    "li = []"
   ]
  },
  {
   "cell_type": "code",
   "execution_count": 2,
   "metadata": {
    "colab": {
     "base_uri": "https://localhost:8080/"
    },
    "executionInfo": {
     "elapsed": 373,
     "status": "ok",
     "timestamp": 1665135352216,
     "user": {
      "displayName": "Saunak Dutta",
      "userId": "14801554564735153679"
     },
     "user_tz": -330
    },
    "id": "Fum1Tpu7BgBs",
    "outputId": "06b2b459-b1ff-47cd-a0a8-577a580e5151"
   },
   "outputs": [
    {
     "data": {
      "text/plain": [
       "[2, 5, 3, 9, 50]"
      ]
     },
     "execution_count": 2,
     "metadata": {},
     "output_type": "execute_result"
    }
   ],
   "source": [
    "# assigning the desired list to variable\n",
    "\n",
    "list1 = [2, 5, 3, 9, 50]\n",
    "\n",
    "list1"
   ]
  },
  {
   "cell_type": "code",
   "execution_count": 3,
   "metadata": {
    "colab": {
     "base_uri": "https://localhost:8080/"
    },
    "executionInfo": {
     "elapsed": 373,
     "status": "ok",
     "timestamp": 1665135352216,
     "user": {
      "displayName": "Saunak Dutta",
      "userId": "14801554564735153679"
     },
     "user_tz": -330
    },
    "id": "Fum1Tpu7BgBs",
    "outputId": "06b2b459-b1ff-47cd-a0a8-577a580e5151"
   },
   "outputs": [
    {
     "data": {
      "text/plain": [
       "[1, 2, 'India', 4, 'For', 6, 'USA', 8.9, (5+8j)]"
      ]
     },
     "execution_count": 3,
     "metadata": {},
     "output_type": "execute_result"
    }
   ],
   "source": [
    "# mixed type of values\n",
    "# (Having numbers and strings)\n",
    "\n",
    "list2 = [1, 2, 'India', 4, 'For', 6, 'USA', 8.9, 5+8j]\n",
    "\n",
    "list2"
   ]
  },
  {
   "cell_type": "code",
   "execution_count": 4,
   "metadata": {
    "colab": {
     "base_uri": "https://localhost:8080/"
    },
    "executionInfo": {
     "elapsed": 374,
     "status": "ok",
     "timestamp": 1665135347852,
     "user": {
      "displayName": "Saunak Dutta",
      "userId": "14801554564735153679"
     },
     "user_tz": -330
    },
    "id": "T_1Ej8d2yDJp",
    "outputId": "4555b37a-cf9b-4dec-d239-eaabaf0b70c8"
   },
   "outputs": [
    {
     "data": {
      "text/plain": [
       "[100, 999, 10, 75, 50, 500, 25, 250]"
      ]
     },
     "execution_count": 4,
     "metadata": {},
     "output_type": "execute_result"
    }
   ],
   "source": [
    "# Typecasting - from set to list\n",
    "\n",
    "S = {10, 50, 100, 50, 25, 250, 75, 500, 999}\n",
    "S\n",
    "\n",
    "list3 = list(S)   # Type-casting\n",
    "\n",
    "list3"
   ]
  },
  {
   "cell_type": "code",
   "execution_count": 5,
   "metadata": {
    "colab": {
     "base_uri": "https://localhost:8080/"
    },
    "executionInfo": {
     "elapsed": 374,
     "status": "ok",
     "timestamp": 1665135347852,
     "user": {
      "displayName": "Saunak Dutta",
      "userId": "14801554564735153679"
     },
     "user_tz": -330
    },
    "id": "T_1Ej8d2yDJp",
    "outputId": "4555b37a-cf9b-4dec-d239-eaabaf0b70c8"
   },
   "outputs": [
    {
     "data": {
      "text/plain": [
       "['I', 'N', 'S', 'O', 'F', 'E']"
      ]
     },
     "execution_count": 5,
     "metadata": {},
     "output_type": "execute_result"
    }
   ],
   "source": [
    "# typecasting - from a string to list\n",
    "\n",
    "strg = 'INSOFE'\n",
    "\n",
    "list(strg)"
   ]
  },
  {
   "cell_type": "code",
   "execution_count": 6,
   "metadata": {},
   "outputs": [
    {
     "data": {
      "text/plain": [
       "[['India', 'is'], ['Great']]"
      ]
     },
     "execution_count": 6,
     "metadata": {},
     "output_type": "execute_result"
    }
   ],
   "source": [
    "# Creating a Multi-Dimensional List\n",
    "# (By Nesting a list inside a List)\n",
    "\n",
    "list4 = [['India', 'is'] , ['Great']]\n",
    "\n",
    "list4"
   ]
  },
  {
   "cell_type": "code",
   "execution_count": 7,
   "metadata": {},
   "outputs": [
    {
     "ename": "NameError",
     "evalue": "name 'MyList' is not defined",
     "output_type": "error",
     "traceback": [
      "\u001b[1;31m---------------------------------------------------------------------------\u001b[0m",
      "\u001b[1;31mNameError\u001b[0m                                 Traceback (most recent call last)",
      "\u001b[1;32m~\\AppData\\Local\\Temp\\ipykernel_11048\\951666547.py\u001b[0m in \u001b[0;36m<module>\u001b[1;34m\u001b[0m\n\u001b[0;32m      1\u001b[0m \u001b[1;31m# checking the length of the list\u001b[0m\u001b[1;33m\u001b[0m\u001b[1;33m\u001b[0m\u001b[0m\n\u001b[0;32m      2\u001b[0m \u001b[1;33m\u001b[0m\u001b[0m\n\u001b[1;32m----> 3\u001b[1;33m \u001b[0mlen\u001b[0m\u001b[1;33m(\u001b[0m\u001b[0mMyList\u001b[0m\u001b[1;33m)\u001b[0m\u001b[1;33m\u001b[0m\u001b[1;33m\u001b[0m\u001b[0m\n\u001b[0m",
      "\u001b[1;31mNameError\u001b[0m: name 'MyList' is not defined"
     ]
    }
   ],
   "source": [
    "# checking the length of the list\n",
    "\n",
    "len(MyList)"
   ]
  },
  {
   "cell_type": "markdown",
   "metadata": {},
   "source": [
    "# Accessing elements from the List\n"
   ]
  },
  {
   "cell_type": "raw",
   "metadata": {},
   "source": [
    "Index number starts from 0 \n",
    "\n",
    "1. In order to access the list items refer to the index number. \n",
    "\n",
    "2. Use the index operator [ ] to access an item in a list. \n",
    "\n",
    "3. The index must be an integer. \n",
    "\n",
    "4. Nested lists are accessed using nested indexing. \n",
    "\n",
    "5. [start index : end index : stride]"
   ]
  },
  {
   "cell_type": "code",
   "execution_count": null,
   "metadata": {},
   "outputs": [],
   "source": [
    "L = [\"Michael Jackson\", 10.1,1982]\n",
    "L"
   ]
  },
  {
   "cell_type": "code",
   "execution_count": null,
   "metadata": {},
   "outputs": [],
   "source": [
    "L[0]"
   ]
  },
  {
   "cell_type": "code",
   "execution_count": null,
   "metadata": {},
   "outputs": [],
   "source": [
    "L[1]"
   ]
  },
  {
   "cell_type": "code",
   "execution_count": null,
   "metadata": {},
   "outputs": [],
   "source": [
    "L[2]"
   ]
  },
  {
   "cell_type": "code",
   "execution_count": null,
   "metadata": {},
   "outputs": [],
   "source": [
    "L[0:2] # slicing"
   ]
  },
  {
   "cell_type": "code",
   "execution_count": null,
   "metadata": {},
   "outputs": [],
   "source": [
    "L[3]"
   ]
  },
  {
   "cell_type": "markdown",
   "metadata": {},
   "source": [
    "IndexError: list index out of range"
   ]
  },
  {
   "cell_type": "code",
   "execution_count": null,
   "metadata": {},
   "outputs": [],
   "source": [
    "# Negative Indexing\n",
    "\n",
    "# Negative indexing will starts from -1\n",
    "\n",
    "print(L[-3])\n",
    "\n",
    "print(L[-2])\n",
    "\n",
    "print(L[-1])"
   ]
  },
  {
   "cell_type": "code",
   "execution_count": null,
   "metadata": {},
   "outputs": [],
   "source": [
    "# Creating a Multi-Dimensional List\n",
    "\n",
    "# (By Nesting a list inside a List)\n",
    "\n",
    "List = [['India', 'is'] , ['Great']]\n",
    "\n",
    "print(List[0])\n",
    "\n",
    "print(List[1])\n",
    "\n",
    "print(List[0][0])"
   ]
  },
  {
   "cell_type": "code",
   "execution_count": null,
   "metadata": {},
   "outputs": [],
   "source": [
    "list = [ 'abcd', 786 , 2.23, 'john', 70.2 ]\n",
    "\n",
    "tinylist = [123, 'john']\n",
    "\n",
    "print (list[1:3]) # Prints elements starting from 2nd till 3rd\n",
    "\n",
    "\n",
    "print (list[2:]) # Prints elements starting from 3rd element\n",
    "\n",
    "print (tinylist * 2 )# Prints list two times\n",
    "\n",
    "print (list + tinylist) # Prints concatenated lists"
   ]
  },
  {
   "cell_type": "markdown",
   "metadata": {},
   "source": [
    "## stride"
   ]
  },
  {
   "cell_type": "code",
   "execution_count": null,
   "metadata": {},
   "outputs": [],
   "source": [
    "L=[\"Michael Jackson\", 10.1,1982,\"MJ\",1]\n",
    "L\n",
    "\n",
    "L[1::2]"
   ]
  },
  {
   "cell_type": "markdown",
   "metadata": {},
   "source": [
    "# We can use the method to add new elements to the list:\n",
    "\n",
    "\n",
    "1. append\n",
    "\n",
    "\n",
    "2. extend\n",
    "\n",
    "\n",
    "3. insert"
   ]
  },
  {
   "cell_type": "markdown",
   "metadata": {},
   "source": [
    "# 1. Using append() method\n"
   ]
  },
  {
   "cell_type": "raw",
   "metadata": {},
   "source": [
    "Elements can be added to the List by using the built-in append() function. \n",
    "\n",
    "Only one element at a time can be added to the list by using the append() method, for the addition of multiple elements with the append() method, loops are used. \n",
    "\n",
    "Tuples can also be added to the list with the use of the append method because tuples are immutable."
   ]
  },
  {
   "cell_type": "code",
   "execution_count": null,
   "metadata": {},
   "outputs": [],
   "source": [
    "L=['Michael Jackson', 10.1, 1982, 'MJ', 1]\n",
    "L"
   ]
  },
  {
   "cell_type": "code",
   "execution_count": null,
   "metadata": {},
   "outputs": [],
   "source": [
    "L.append(5)\n",
    "L"
   ]
  },
  {
   "cell_type": "code",
   "execution_count": null,
   "metadata": {},
   "outputs": [],
   "source": [
    "L = [ \"Michael Jackson\", 10.2]\n",
    "L.append(['pop', 10])\n",
    "L"
   ]
  },
  {
   "cell_type": "code",
   "execution_count": null,
   "metadata": {},
   "outputs": [],
   "source": [
    "# difference between append and extend\n",
    "\n",
    "L = [ \"Michael Jackson\", 10.2]\n",
    "L.extend(['pop', 10])\n",
    "L"
   ]
  },
  {
   "cell_type": "markdown",
   "metadata": {},
   "source": [
    "# Using extend() method\n",
    "\n"
   ]
  },
  {
   "cell_type": "raw",
   "metadata": {},
   "source": [
    "Other than append() and insert() methods, there’s one more method for the Addition of elements, extend(), this method is used to add multiple elements at the same time at the end of the list.\n",
    "Note – append() and extend() methods can only add elements at the end."
   ]
  },
  {
   "cell_type": "code",
   "execution_count": null,
   "metadata": {},
   "outputs": [],
   "source": [
    "# Use extend to add elements to list\n",
    "\n",
    "L = [ \"Michael Jackson\", 10.2]\n",
    "L.extend(['pop', 10])\n",
    "L"
   ]
  },
  {
   "cell_type": "code",
   "execution_count": null,
   "metadata": {},
   "outputs": [],
   "source": [
    "# Use extend to add elements to list\n",
    "\n",
    "L = [ \"Michael Jackson\", 10.2]\n",
    "L.append(['pop', 10])\n",
    "L"
   ]
  },
  {
   "cell_type": "code",
   "execution_count": null,
   "metadata": {},
   "outputs": [],
   "source": [
    "L = [ \"Michael Jackson\", 10.2]\n",
    "L.append(78)\n",
    "L"
   ]
  },
  {
   "cell_type": "code",
   "execution_count": null,
   "metadata": {},
   "outputs": [],
   "source": [
    "# Use extend to add elements to list\n",
    "\n",
    "L = [ \"Michael Jackson\", 10.2]\n",
    "L.extend([5,6])\n",
    "L"
   ]
  },
  {
   "cell_type": "code",
   "execution_count": null,
   "metadata": {},
   "outputs": [],
   "source": [
    "# create a list\n",
    "food = ['Rice', 'Panner', 'Chicken']\n",
    "# add the elements to the list\n",
    "food.extend('Roti')\n",
    "food"
   ]
  },
  {
   "cell_type": "markdown",
   "metadata": {},
   "source": [
    "# Using insert() method"
   ]
  },
  {
   "cell_type": "markdown",
   "metadata": {},
   "source": [
    "# Addition of Element at specific Position (using Insert Method)"
   ]
  },
  {
   "cell_type": "raw",
   "metadata": {},
   "source": [
    "append() method only works for the addition of elements at the end of the List, for the addition of elements at the desired position, insert() method is used.\n",
    "\n",
    "Unlike append() which takes only one argument, the insert() method requires two arguments(position, value). "
   ]
  },
  {
   "cell_type": "code",
   "execution_count": null,
   "metadata": {},
   "outputs": [],
   "source": [
    "List = [1,2,3,4]\n",
    "\n",
    "List.insert(2, 12)\n",
    "\n",
    "List"
   ]
  },
  {
   "cell_type": "code",
   "execution_count": null,
   "metadata": {},
   "outputs": [],
   "source": [
    "# create a list\n",
    "food = ['Rice', 'Panner', 'Chicken']\n",
    "# add element at index 1\n",
    "food.insert(1, 'Roti')\n",
    "food"
   ]
  },
  {
   "cell_type": "markdown",
   "metadata": {},
   "source": [
    "# Removing Elements from the List\n",
    "\n",
    "    # remove()\n",
    "    # pop()\n",
    "    # clear()"
   ]
  },
  {
   "cell_type": "raw",
   "metadata": {},
   "source": [
    "Elements can be removed from the List by using the built-in remove() function but an Error arises if the element doesn’t exist in the set. \n",
    "\n",
    "Remove() method only removes one element at a time, to remove a range of elements, the iterator is used. \n",
    "\n",
    "The remove() method removes the specified item.\n",
    "\n",
    "Note – Remove method in List will only remove the first occurrence of the searched element."
   ]
  },
  {
   "cell_type": "code",
   "execution_count": null,
   "metadata": {},
   "outputs": [],
   "source": [
    "# create a list\n",
    "food = ['Rice', 'Panner', 'Chicken']\n",
    "\n",
    "# remove 'Rice' element\n",
    "food.remove('Rice')\n",
    "food"
   ]
  },
  {
   "cell_type": "markdown",
   "metadata": {},
   "source": [
    "# Using pop() method"
   ]
  },
  {
   "cell_type": "raw",
   "metadata": {},
   "source": [
    "Pop() function can also be used to remove and return an element from the set, but by default it removes only the last element of the set, to remove an element from a specific position of the List, the index of the element is passed as an argument to the pop() method."
   ]
  },
  {
   "cell_type": "code",
   "execution_count": 8,
   "metadata": {},
   "outputs": [
    {
     "name": "stdout",
     "output_type": "stream",
     "text": [
      "[1, 2, 3, 4]\n"
     ]
    }
   ],
   "source": [
    "List = [1,2,3,4,5] \n",
    "  \n",
    "# Removing element from the  \n",
    "# Set using the pop() method\n",
    "\n",
    "List.pop() \n",
    "\n",
    "print(List)"
   ]
  },
  {
   "cell_type": "code",
   "execution_count": 9,
   "metadata": {},
   "outputs": [
    {
     "name": "stdout",
     "output_type": "stream",
     "text": [
      "[1, 2, 4]\n"
     ]
    }
   ],
   "source": [
    "# Removing element at a\n",
    "# specific location from the\n",
    "# Set using the pop() method\n",
    "\n",
    "List.pop(2)\n",
    "\n",
    "print(List)\n"
   ]
  },
  {
   "cell_type": "code",
   "execution_count": 10,
   "metadata": {
    "colab": {
     "base_uri": "https://localhost:8080/"
    },
    "executionInfo": {
     "elapsed": 596,
     "status": "ok",
     "timestamp": 1665137006206,
     "user": {
      "displayName": "Saunak Dutta",
      "userId": "14801554564735153679"
     },
     "user_tz": -330
    },
    "id": "lZFZH1ttCxy7",
    "outputId": "73df0b5d-7372-42ee-cd16-22d0aa7a63cd"
   },
   "outputs": [
    {
     "name": "stdout",
     "output_type": "stream",
     "text": [
      "None\n"
     ]
    }
   ],
   "source": [
    "# sorting the list\n",
    "\n",
    "MyList = [25, 50, 50, 75, 100, 250, 500, 999, 2, 3, 5, 9, 10]\n",
    "\n",
    "print(MyList.sort())                    # Sorts the list"
   ]
  },
  {
   "cell_type": "code",
   "execution_count": 11,
   "metadata": {
    "colab": {
     "base_uri": "https://localhost:8080/"
    },
    "executionInfo": {
     "elapsed": 388,
     "status": "ok",
     "timestamp": 1665137013691,
     "user": {
      "displayName": "Saunak Dutta",
      "userId": "14801554564735153679"
     },
     "user_tz": -330
    },
    "id": "aNIV2avBEEWG",
    "outputId": "5d663a85-5bd5-4ff6-b7c5-998830798ff3"
   },
   "outputs": [
    {
     "data": {
      "text/plain": [
       "[999, 500, 250, 100, 75, 50, 50, 25, 10, 9, 5, 3, 2]"
      ]
     },
     "execution_count": 11,
     "metadata": {},
     "output_type": "execute_result"
    }
   ],
   "source": [
    "# Reverses the order of the list\n",
    "    \n",
    "MyList.reverse()\n",
    "\n",
    "MyList"
   ]
  },
  {
   "cell_type": "code",
   "execution_count": 12,
   "metadata": {
    "colab": {
     "base_uri": "https://localhost:8080/"
    },
    "executionInfo": {
     "elapsed": 497,
     "status": "ok",
     "timestamp": 1665136263585,
     "user": {
      "displayName": "Saunak Dutta",
      "userId": "14801554564735153679"
     },
     "user_tz": -330
    },
    "id": "5e38uuD8EUPm",
    "outputId": "bad3bc18-e6db-4b79-bdc9-d216cba9ffc8"
   },
   "outputs": [
    {
     "name": "stdout",
     "output_type": "stream",
     "text": [
      "5\n"
     ]
    },
    {
     "data": {
      "text/plain": [
       "[999, 500, 250, 100, 75, 50, 50, 25, 10, 9, 5, 3, 2]"
      ]
     },
     "execution_count": 12,
     "metadata": {},
     "output_type": "execute_result"
    }
   ],
   "source": [
    "# Returns the index of the first element with the specified value\n",
    "\n",
    "print(MyList.index(50))                \n",
    "\n",
    "MyList"
   ]
  },
  {
   "cell_type": "code",
   "execution_count": 13,
   "metadata": {
    "colab": {
     "base_uri": "https://localhost:8080/"
    },
    "executionInfo": {
     "elapsed": 413,
     "status": "ok",
     "timestamp": 1665136226675,
     "user": {
      "displayName": "Saunak Dutta",
      "userId": "14801554564735153679"
     },
     "user_tz": -330
    },
    "id": "gdtBtopqFt7T",
    "outputId": "71c93dac-6909-41f3-ee26-58f14d05f113"
   },
   "outputs": [
    {
     "data": {
      "text/plain": [
       "2"
      ]
     },
     "execution_count": 13,
     "metadata": {},
     "output_type": "execute_result"
    }
   ],
   "source": [
    " # Returns the number of elements with the specified value\n",
    "\n",
    "MyList.count(50)                 "
   ]
  },
  {
   "cell_type": "code",
   "execution_count": 14,
   "metadata": {
    "colab": {
     "base_uri": "https://localhost:8080/"
    },
    "executionInfo": {
     "elapsed": 16,
     "status": "ok",
     "timestamp": 1665124015253,
     "user": {
      "displayName": "Saunak Dutta",
      "userId": "14801554564735153679"
     },
     "user_tz": -330
    },
    "id": "aROpV-_aG63M",
    "outputId": "c3564815-c6d7-4887-a4b9-773d063095d8"
   },
   "outputs": [
    {
     "data": {
      "text/plain": [
       "[]"
      ]
     },
     "execution_count": 14,
     "metadata": {},
     "output_type": "execute_result"
    }
   ],
   "source": [
    "# Removes all the elements from the list\n",
    "\n",
    "MyList.clear()                        \n",
    "MyList"
   ]
  },
  {
   "cell_type": "code",
   "execution_count": 15,
   "metadata": {
    "colab": {
     "base_uri": "https://localhost:8080/",
     "height": 201
    },
    "executionInfo": {
     "elapsed": 387,
     "status": "error",
     "timestamp": 1665137098166,
     "user": {
      "displayName": "Saunak Dutta",
      "userId": "14801554564735153679"
     },
     "user_tz": -330
    },
    "id": "IY6WSJbKHdaB",
    "outputId": "3e6fcbc0-bb31-4afc-9b29-6150ba0df5ce"
   },
   "outputs": [
    {
     "ename": "NameError",
     "evalue": "name 'Mylist' is not defined",
     "output_type": "error",
     "traceback": [
      "\u001b[1;31m---------------------------------------------------------------------------\u001b[0m",
      "\u001b[1;31mNameError\u001b[0m                                 Traceback (most recent call last)",
      "\u001b[1;32m~\\AppData\\Local\\Temp\\ipykernel_11048\\735278175.py\u001b[0m in \u001b[0;36m<module>\u001b[1;34m\u001b[0m\n\u001b[1;32m----> 1\u001b[1;33m \u001b[1;32mdel\u001b[0m \u001b[0mMylist\u001b[0m                          \u001b[1;31m# Deletes the complete list\u001b[0m\u001b[1;33m\u001b[0m\u001b[1;33m\u001b[0m\u001b[0m\n\u001b[0m\u001b[0;32m      2\u001b[0m \u001b[1;33m\u001b[0m\u001b[0m\n\u001b[0;32m      3\u001b[0m \u001b[0mprint\u001b[0m\u001b[1;33m(\u001b[0m\u001b[0mMylist\u001b[0m\u001b[1;33m)\u001b[0m\u001b[1;33m\u001b[0m\u001b[1;33m\u001b[0m\u001b[0m\n",
      "\u001b[1;31mNameError\u001b[0m: name 'Mylist' is not defined"
     ]
    }
   ],
   "source": [
    "del Mylist                          # Deletes the complete list\n",
    "\n",
    "print(Mylist)"
   ]
  },
  {
   "cell_type": "code",
   "execution_count": null,
   "metadata": {
    "colab": {
     "base_uri": "https://localhost:8080/"
    },
    "executionInfo": {
     "elapsed": 368,
     "status": "ok",
     "timestamp": 1665137101726,
     "user": {
      "displayName": "Saunak Dutta",
      "userId": "14801554564735153679"
     },
     "user_tz": -330
    },
    "id": "kKMjqfTaIMAB",
    "outputId": "b23e5c56-915f-4fb8-91dc-e3b41f06adf4"
   },
   "outputs": [],
   "source": [
    "MyList = [250, 100, 75, 50, 25, 10, 9, 5, 3, 2]\n",
    "\n",
    "MyList"
   ]
  },
  {
   "cell_type": "code",
   "execution_count": null,
   "metadata": {
    "colab": {
     "base_uri": "https://localhost:8080/"
    },
    "executionInfo": {
     "elapsed": 368,
     "status": "ok",
     "timestamp": 1665137200439,
     "user": {
      "displayName": "Saunak Dutta",
      "userId": "14801554564735153679"
     },
     "user_tz": -330
    },
    "id": "5gmID_R7Ilo7",
    "outputId": "7203381f-5783-424b-97be-8b96c667ced3"
   },
   "outputs": [],
   "source": [
    "sum(MyList)/len(MyList)"
   ]
  },
  {
   "cell_type": "markdown",
   "metadata": {
    "id": "ls5HdMn6Jh31"
   },
   "source": [
    "### List Comprehension"
   ]
  },
  {
   "cell_type": "code",
   "execution_count": null,
   "metadata": {
    "colab": {
     "base_uri": "https://localhost:8080/"
    },
    "executionInfo": {
     "elapsed": 390,
     "status": "ok",
     "timestamp": 1665138528438,
     "user": {
      "displayName": "Saunak Dutta",
      "userId": "14801554564735153679"
     },
     "user_tz": -330
    },
    "id": "kB6MtRraJl-m",
    "outputId": "d22d88a9-4cba-4f72-d2d0-0644eb31c38d"
   },
   "outputs": [],
   "source": [
    "Fruits = ['apple', 'abricot', 'kiwi', 'mango', 'almonds', 'peach', 'orange']\n",
    "\n",
    "NewList = []\n",
    "\n",
    "for i in Fruits:\n",
    "  if 'a' in i:\n",
    "    NewList.append(i)\n",
    "\n",
    "NewList"
   ]
  },
  {
   "cell_type": "code",
   "execution_count": null,
   "metadata": {
    "colab": {
     "base_uri": "https://localhost:8080/"
    },
    "executionInfo": {
     "elapsed": 525,
     "status": "ok",
     "timestamp": 1665137797179,
     "user": {
      "displayName": "Saunak Dutta",
      "userId": "14801554564735153679"
     },
     "user_tz": -330
    },
    "id": "NwwfmX_v7jlQ",
    "outputId": "2e8c9a60-cb9a-44fa-e7ed-95e03f5251c5"
   },
   "outputs": [],
   "source": [
    "NewList = []\n",
    "\n",
    "for i in Fruits:\n",
    "  if i[0] == 'a':\n",
    "    NewList.append(i)\n",
    "\n",
    "NewList"
   ]
  },
  {
   "cell_type": "code",
   "execution_count": null,
   "metadata": {
    "colab": {
     "base_uri": "https://localhost:8080/"
    },
    "executionInfo": {
     "elapsed": 415,
     "status": "ok",
     "timestamp": 1665125062938,
     "user": {
      "displayName": "Saunak Dutta",
      "userId": "14801554564735153679"
     },
     "user_tz": -330
    },
    "id": "I9JI6u9TL_XM",
    "outputId": "acf8a1d1-ff5f-4287-e9b6-e2281bc2c63e"
   },
   "outputs": [],
   "source": [
    "len(Fruits)"
   ]
  },
  {
   "cell_type": "code",
   "execution_count": null,
   "metadata": {
    "colab": {
     "base_uri": "https://localhost:8080/"
    },
    "executionInfo": {
     "elapsed": 497,
     "status": "ok",
     "timestamp": 1665125034570,
     "user": {
      "displayName": "Saunak Dutta",
      "userId": "14801554564735153679"
     },
     "user_tz": -330
    },
    "id": "CNLc5qX6KcWW",
    "outputId": "f0b0fa0e-a7e6-4db1-ba6a-a43a6f9802e8"
   },
   "outputs": [],
   "source": [
    "NewList = []\n",
    "\n",
    "for i in range(len(Fruits)):\n",
    "  if Fruits[i][0] == 'a':\n",
    "    NewList.append(Fruits[i])\n",
    "\n",
    "NewList"
   ]
  },
  {
   "cell_type": "code",
   "execution_count": null,
   "metadata": {
    "colab": {
     "base_uri": "https://localhost:8080/"
    },
    "executionInfo": {
     "elapsed": 401,
     "status": "ok",
     "timestamp": 1665125273361,
     "user": {
      "displayName": "Saunak Dutta",
      "userId": "14801554564735153679"
     },
     "user_tz": -330
    },
    "id": "m1gx2grNK3LJ",
    "outputId": "f75ff259-ccf6-402b-87cc-bc561a6bb119"
   },
   "outputs": [],
   "source": [
    "NewList = [f for f in Fruits if (f != 'kiwi' and f != 'mango')]\n",
    "\n",
    "NewList"
   ]
  },
  {
   "cell_type": "code",
   "execution_count": null,
   "metadata": {
    "colab": {
     "base_uri": "https://localhost:8080/"
    },
    "executionInfo": {
     "elapsed": 1579,
     "status": "ok",
     "timestamp": 1665138574337,
     "user": {
      "displayName": "Saunak Dutta",
      "userId": "14801554564735153679"
     },
     "user_tz": -330
    },
    "id": "tAeKrv6e_es4",
    "outputId": "a1f2cb10-7fda-4c4b-c34c-1f95ed5cfb4f"
   },
   "outputs": [],
   "source": [
    "NewList = [f for f in Fruits if f[0] == 'a']\n",
    "\n",
    "NewList"
   ]
  },
  {
   "cell_type": "code",
   "execution_count": null,
   "metadata": {
    "colab": {
     "base_uri": "https://localhost:8080/"
    },
    "executionInfo": {
     "elapsed": 513,
     "status": "ok",
     "timestamp": 1665125383417,
     "user": {
      "displayName": "Saunak Dutta",
      "userId": "14801554564735153679"
     },
     "user_tz": -330
    },
    "id": "-zfrZdmqLwuG",
    "outputId": "ee45bcd8-3be9-4a84-d2aa-86da87be5a97"
   },
   "outputs": [],
   "source": [
    "EvenList = [p for p in range(1, 11) if p % 2 == 0]\n",
    "\n",
    "EvenList"
   ]
  },
  {
   "cell_type": "code",
   "execution_count": null,
   "metadata": {
    "colab": {
     "base_uri": "https://localhost:8080/"
    },
    "executionInfo": {
     "elapsed": 379,
     "status": "ok",
     "timestamp": 1665125564083,
     "user": {
      "displayName": "Saunak Dutta",
      "userId": "14801554564735153679"
     },
     "user_tz": -330
    },
    "id": "7qRTJXpyNLGR",
    "outputId": "53957407-36a7-4528-cce5-3ff3ebc7d87b"
   },
   "outputs": [],
   "source": [
    "list1 = [1, 3, 5, 7, 9]\n",
    "list2 = [2, 4, 6, 8, 10]\n",
    "\n",
    "list1 + list2"
   ]
  },
  {
   "cell_type": "code",
   "execution_count": null,
   "metadata": {
    "colab": {
     "base_uri": "https://localhost:8080/"
    },
    "executionInfo": {
     "elapsed": 483,
     "status": "ok",
     "timestamp": 1665125736709,
     "user": {
      "displayName": "Saunak Dutta",
      "userId": "14801554564735153679"
     },
     "user_tz": -330
    },
    "id": "KOSSxi_dN868",
    "outputId": "b14b53ce-a70f-4288-f47a-47ffd246c94f"
   },
   "outputs": [],
   "source": [
    "list1 = [1, 2, 3, 4, 5]\n",
    "list2 = [2, 4]\n",
    "\n",
    "list(set(list1).difference(set(list2)))"
   ]
  },
  {
   "cell_type": "code",
   "execution_count": null,
   "metadata": {
    "colab": {
     "base_uri": "https://localhost:8080/"
    },
    "executionInfo": {
     "elapsed": 393,
     "status": "ok",
     "timestamp": 1665139850741,
     "user": {
      "displayName": "Saunak Dutta",
      "userId": "14801554564735153679"
     },
     "user_tz": -330
    },
    "id": "ySHagh7SEa_Q",
    "outputId": "1ec5cb21-51ab-47a8-a220-a7fd69eb856b"
   },
   "outputs": [],
   "source": [
    "l = [2, 5, 20, 50]\n",
    "\n",
    "l[2] = 10\n",
    "\n",
    "l"
   ]
  },
  {
   "cell_type": "code",
   "execution_count": null,
   "metadata": {
    "colab": {
     "base_uri": "https://localhost:8080/"
    },
    "executionInfo": {
     "elapsed": 409,
     "status": "ok",
     "timestamp": 1665139923617,
     "user": {
      "displayName": "Saunak Dutta",
      "userId": "14801554564735153679"
     },
     "user_tz": -330
    },
    "id": "UIo1_2U3EsnQ",
    "outputId": "31cee425-d5ce-428d-bbb9-c204b9a5a06c"
   },
   "outputs": [],
   "source": [
    "l[0:len(l)]"
   ]
  },
  {
   "cell_type": "markdown",
   "metadata": {},
   "source": [
    "# Tuples\n"
   ]
  },
  {
   "cell_type": "raw",
   "metadata": {},
   "source": [
    "1. A Tuple is a collection of Python objects separated by commas.Tuples are written with round brackets.\n",
    "\n",
    "2. A tuple is a collection which is ordered and unchangeable.\n",
    "\n",
    "3. A tuple is a collection of objects which ordered and immutable. Tuples are sequences, just like lists. The differences between tuples and lists are, the tuples cannot be changed unlike lists and tuples use parentheses, whereas lists use square brackets.\n",
    "\n",
    "4. A tuple is an immutable data type in python, almost similar to a list in python in terms of indexing and having duplicate members. It is a collection data type that stores python objects separated by commas. "
   ]
  },
  {
   "cell_type": "code",
   "execution_count": null,
   "metadata": {
    "colab": {
     "base_uri": "https://localhost:8080/"
    },
    "executionInfo": {
     "elapsed": 368,
     "status": "ok",
     "timestamp": 1665138843189,
     "user": {
      "displayName": "Saunak Dutta",
      "userId": "14801554564735153679"
     },
     "user_tz": -330
    },
    "id": "Zwp9Ld_5N3Cz",
    "outputId": "a0d09d7f-d365-4286-dacd-c12d1c2ceffe"
   },
   "outputs": [],
   "source": [
    "# creating the tuples\n",
    "\n",
    "MyTuple = ()\n",
    "\n",
    "MyTuple"
   ]
  },
  {
   "cell_type": "code",
   "execution_count": null,
   "metadata": {},
   "outputs": [],
   "source": [
    "# wrong way\n",
    "\n",
    "a=(10)"
   ]
  },
  {
   "cell_type": "code",
   "execution_count": null,
   "metadata": {},
   "outputs": [],
   "source": [
    "type(a)"
   ]
  },
  {
   "cell_type": "code",
   "execution_count": null,
   "metadata": {
    "colab": {
     "base_uri": "https://localhost:8080/"
    },
    "executionInfo": {
     "elapsed": 9,
     "status": "ok",
     "timestamp": 1665138843816,
     "user": {
      "displayName": "Saunak Dutta",
      "userId": "14801554564735153679"
     },
     "user_tz": -330
    },
    "id": "hj5_sojHPBDP",
    "outputId": "7cd46df9-1969-4b73-a9db-43ad0d595087"
   },
   "outputs": [],
   "source": [
    "MyTuple = (50, )\n",
    "\n",
    "MyTuple"
   ]
  },
  {
   "cell_type": "code",
   "execution_count": null,
   "metadata": {
    "colab": {
     "base_uri": "https://localhost:8080/"
    },
    "executionInfo": {
     "elapsed": 9,
     "status": "ok",
     "timestamp": 1665138843817,
     "user": {
      "displayName": "Saunak Dutta",
      "userId": "14801554564735153679"
     },
     "user_tz": -330
    },
    "id": "jcEAbUH6PE1J",
    "outputId": "d798fca7-6842-4573-9cd8-961b2d9b969e"
   },
   "outputs": [],
   "source": [
    "MyTuple = (25, 50, 75, 100)\n",
    "\n",
    "print(max(MyTuple))\n",
    "print(min(MyTuple))\n",
    "print(len(MyTuple))"
   ]
  },
  {
   "cell_type": "code",
   "execution_count": null,
   "metadata": {
    "colab": {
     "base_uri": "https://localhost:8080/"
    },
    "executionInfo": {
     "elapsed": 8,
     "status": "ok",
     "timestamp": 1665138843817,
     "user": {
      "displayName": "Saunak Dutta",
      "userId": "14801554564735153679"
     },
     "user_tz": -330
    },
    "id": "Pd1xqfoIPPls",
    "outputId": "086ad3b9-31ee-4f32-94ea-24ef70873745"
   },
   "outputs": [],
   "source": [
    "ListToTuple = tuple([1, 3, 5, 10, 25, 50])\n",
    "\n",
    "ListToTuple"
   ]
  },
  {
   "cell_type": "code",
   "execution_count": null,
   "metadata": {
    "colab": {
     "base_uri": "https://localhost:8080/"
    },
    "executionInfo": {
     "elapsed": 9,
     "status": "ok",
     "timestamp": 1665138843818,
     "user": {
      "displayName": "Saunak Dutta",
      "userId": "14801554564735153679"
     },
     "user_tz": -330
    },
    "id": "1Rt3qWHtPmHq",
    "outputId": "840d47db-2a75-4fcd-8533-456d167c6732"
   },
   "outputs": [],
   "source": [
    "ListToTuple[0:len(ListToTuple)]"
   ]
  },
  {
   "cell_type": "code",
   "execution_count": null,
   "metadata": {
    "colab": {
     "base_uri": "https://localhost:8080/"
    },
    "executionInfo": {
     "elapsed": 8,
     "status": "ok",
     "timestamp": 1665138843818,
     "user": {
      "displayName": "Saunak Dutta",
      "userId": "14801554564735153679"
     },
     "user_tz": -330
    },
    "id": "XjJ5eO9IP7AH",
    "outputId": "86ae37c8-c507-4968-d375-ed9035c0382c"
   },
   "outputs": [],
   "source": [
    "print(ListToTuple[0])\n",
    "print(ListToTuple[-1])\n",
    "\n",
    "print(ListToTuple[len(ListToTuple)//2])\n",
    "print(ListToTuple[-len(ListToTuple)//2])"
   ]
  },
  {
   "cell_type": "code",
   "execution_count": null,
   "metadata": {
    "colab": {
     "base_uri": "https://localhost:8080/"
    },
    "executionInfo": {
     "elapsed": 8,
     "status": "ok",
     "timestamp": 1665138843819,
     "user": {
      "displayName": "Saunak Dutta",
      "userId": "14801554564735153679"
     },
     "user_tz": -330
    },
    "id": "TAxSDmIQQEaH",
    "outputId": "f1d5689a-f411-45c0-d8d8-00e59faff633"
   },
   "outputs": [],
   "source": [
    "10 in ListToTuple"
   ]
  },
  {
   "cell_type": "code",
   "execution_count": null,
   "metadata": {
    "colab": {
     "base_uri": "https://localhost:8080/"
    },
    "executionInfo": {
     "elapsed": 373,
     "status": "ok",
     "timestamp": 1665139824327,
     "user": {
      "displayName": "Saunak Dutta",
      "userId": "14801554564735153679"
     },
     "user_tz": -330
    },
    "id": "66AMXyLaEUht",
    "outputId": "454f2197-6c66-41ba-eb51-380e917d0b40"
   },
   "outputs": [],
   "source": [
    "tuple(range(10))"
   ]
  },
  {
   "cell_type": "code",
   "execution_count": null,
   "metadata": {
    "colab": {
     "base_uri": "https://localhost:8080/"
    },
    "executionInfo": {
     "elapsed": 8,
     "status": "ok",
     "timestamp": 1665138843819,
     "user": {
      "displayName": "Saunak Dutta",
      "userId": "14801554564735153679"
     },
     "user_tz": -330
    },
    "id": "BSLqu356QrZb",
    "outputId": "a2fef236-82ea-4c8c-f35f-911827f8e102"
   },
   "outputs": [],
   "source": [
    "(1, 3, 5) + (2, 4, 6)"
   ]
  },
  {
   "cell_type": "code",
   "execution_count": null,
   "metadata": {
    "colab": {
     "base_uri": "https://localhost:8080/"
    },
    "executionInfo": {
     "elapsed": 7,
     "status": "ok",
     "timestamp": 1665138843819,
     "user": {
      "displayName": "Saunak Dutta",
      "userId": "14801554564735153679"
     },
     "user_tz": -330
    },
    "id": "rjYkNoGpQ6SS",
    "outputId": "95b72934-431f-46e1-b5d7-85c9145ba7a6"
   },
   "outputs": [],
   "source": [
    "((1, 2, 3), ) * 5"
   ]
  },
  {
   "cell_type": "code",
   "execution_count": null,
   "metadata": {
    "colab": {
     "base_uri": "https://localhost:8080/",
     "height": 235
    },
    "executionInfo": {
     "elapsed": 383,
     "status": "error",
     "timestamp": 1665140001481,
     "user": {
      "displayName": "Saunak Dutta",
      "userId": "14801554564735153679"
     },
     "user_tz": -330
    },
    "id": "mXaSlDghE_Tg",
    "outputId": "8b7147ce-9bb3-453b-f9d2-d2b3369af3cb"
   },
   "outputs": [],
   "source": [
    "t = (2, 5, 20, 50)\n",
    "\n",
    "t[2] = 10\n",
    "\n",
    "t"
   ]
  },
  {
   "cell_type": "markdown",
   "metadata": {
    "id": "OScpM-MydWgE"
   },
   "source": [
    "# Set"
   ]
  },
  {
   "cell_type": "raw",
   "metadata": {},
   "source": [
    "1. A set is a collection which is unordered and unindexed.\n",
    "\n",
    "* Note: Set items are unchangeable, but you can remove items and add new items.\n",
    "\n",
    "2. A set is a unique collection of objects in Python. \n",
    "\n",
    "3. You can denote a set with a curly bracket <b>{}</b>. Python will automatically remove duplicate items:\n",
    "\n",
    "4. A Python set is the collection of the unordered items. Each element in the set must be unique, immutable, and the sets remove the duplicate elements. \n",
    "\n",
    "5. Sets are mutable which means we can modify it after its creation.\n",
    "\n",
    "6. Unlike other collections in Python, there is no index attached to the elements of the set, i.e., we cannot directly access any element of the set by the index. However, we can print them all together, or we can get the list of elements by looping through the set."
   ]
  },
  {
   "cell_type": "markdown",
   "metadata": {},
   "source": [
    "# Creating a set"
   ]
  },
  {
   "cell_type": "raw",
   "metadata": {},
   "source": [
    "The set can be created by enclosing the comma-separated immutable items with the curly braces {}. Python also provides the set() method, which can be used to create the set by the passed sequence."
   ]
  },
  {
   "cell_type": "code",
   "execution_count": 16,
   "metadata": {},
   "outputs": [
    {
     "data": {
      "text/plain": [
       "{}"
      ]
     },
     "execution_count": 16,
     "metadata": {},
     "output_type": "execute_result"
    }
   ],
   "source": [
    "# creating empty set\n",
    "\n",
    "a={}\n",
    "a"
   ]
  },
  {
   "cell_type": "code",
   "execution_count": 17,
   "metadata": {},
   "outputs": [
    {
     "data": {
      "text/plain": [
       "dict"
      ]
     },
     "execution_count": 17,
     "metadata": {},
     "output_type": "execute_result"
    }
   ],
   "source": [
    "type(a)"
   ]
  },
  {
   "cell_type": "raw",
   "metadata": {},
   "source": [
    "Creating an empty set is a bit different because empty curly {} braces are also used to create a dictionary as well. So Python provides the set() method used without an argument to create an empty set."
   ]
  },
  {
   "cell_type": "code",
   "execution_count": 18,
   "metadata": {},
   "outputs": [
    {
     "name": "stdout",
     "output_type": "stream",
     "text": [
      "<class 'dict'>\n",
      "<class 'set'>\n"
     ]
    }
   ],
   "source": [
    "# Empty curly braces will create dictionary  \n",
    "set3 = {}  \n",
    "print(type(set3))  \n",
    "  \n",
    "# Empty set using set() function  \n",
    "set4 = set()  \n",
    "print(type(set4))  "
   ]
  },
  {
   "cell_type": "code",
   "execution_count": 19,
   "metadata": {},
   "outputs": [],
   "source": [
    "a = set() # creating an empty set"
   ]
  },
  {
   "cell_type": "code",
   "execution_count": 20,
   "metadata": {
    "colab": {
     "base_uri": "https://localhost:8080/",
     "height": 218
    },
    "executionInfo": {
     "elapsed": 378,
     "status": "error",
     "timestamp": 1665139326054,
     "user": {
      "displayName": "Saunak Dutta",
      "userId": "14801554564735153679"
     },
     "user_tz": -330
    },
    "id": "Pivrfqi2RG3A",
    "outputId": "a3882ee3-7b55-4e4c-c2f6-edc1f38d70f7"
   },
   "outputs": [
    {
     "name": "stdout",
     "output_type": "stream",
     "text": [
      "{'Violin', 'Sarod', 'Sitar', 'Santoor'}\n"
     ]
    }
   ],
   "source": [
    "MySet = set(['Violin', 'Sarod', 'Cello', 'Santoor', 'Sitar'])\n",
    "\n",
    "MySet.remove('Cello')\n",
    "\n",
    "print(MySet)\n"
   ]
  },
  {
   "cell_type": "code",
   "execution_count": 21,
   "metadata": {},
   "outputs": [
    {
     "ename": "KeyError",
     "evalue": "'Cello'",
     "output_type": "error",
     "traceback": [
      "\u001b[1;31m---------------------------------------------------------------------------\u001b[0m",
      "\u001b[1;31mKeyError\u001b[0m                                  Traceback (most recent call last)",
      "\u001b[1;32m~\\AppData\\Local\\Temp\\ipykernel_11048\\1061093441.py\u001b[0m in \u001b[0;36m<module>\u001b[1;34m\u001b[0m\n\u001b[1;32m----> 1\u001b[1;33m \u001b[0mMySet\u001b[0m\u001b[1;33m.\u001b[0m\u001b[0mremove\u001b[0m\u001b[1;33m(\u001b[0m\u001b[1;34m'Cello'\u001b[0m\u001b[1;33m)\u001b[0m\u001b[1;33m\u001b[0m\u001b[1;33m\u001b[0m\u001b[0m\n\u001b[0m",
      "\u001b[1;31mKeyError\u001b[0m: 'Cello'"
     ]
    }
   ],
   "source": [
    "MySet.remove('Cello')"
   ]
  },
  {
   "cell_type": "markdown",
   "metadata": {},
   "source": [
    "### Difference between discard() and remove()"
   ]
  },
  {
   "cell_type": "raw",
   "metadata": {},
   "source": [
    "Despite the fact that discard() and remove() method both perform the same task, There is one main difference between discard() and remove().\n",
    "\n",
    "If the key to be deleted from the set using discard() doesn't exist in the set, the Python will not give the error. The program maintains its control flow.\n",
    "\n",
    "On the other hand, if the item to be deleted from the set using remove() doesn't exist in the set, the Python will raise an error.\n",
    "\n",
    "Consider the following example.\n"
   ]
  },
  {
   "cell_type": "code",
   "execution_count": null,
   "metadata": {
    "colab": {
     "base_uri": "https://localhost:8080/"
    },
    "executionInfo": {
     "elapsed": 425,
     "status": "ok",
     "timestamp": 1665139380969,
     "user": {
      "displayName": "Saunak Dutta",
      "userId": "14801554564735153679"
     },
     "user_tz": -330
    },
    "id": "gkcrCe3oYWr3",
    "outputId": "ba961c95-a845-45a2-b0b6-1fe5a88b7519"
   },
   "outputs": [],
   "source": [
    "MySet.discard(\"Violin\")\n",
    "print(MySet)\n",
    "\n",
    "MySet.discard(\"Violin\")\n",
    "print(MySet)"
   ]
  },
  {
   "cell_type": "code",
   "execution_count": null,
   "metadata": {
    "colab": {
     "base_uri": "https://localhost:8080/"
    },
    "executionInfo": {
     "elapsed": 825,
     "status": "ok",
     "timestamp": 1665128859887,
     "user": {
      "displayName": "Saunak Dutta",
      "userId": "14801554564735153679"
     },
     "user_tz": -330
    },
    "id": "FjX4jpIXY69e",
    "outputId": "7b027f77-e8db-4435-8e4e-22e4576f04cb"
   },
   "outputs": [],
   "source": [
    "MySet.update((\"Violin\", \"Cello\", \"Shehnai\"))\n",
    "\n",
    "MySet"
   ]
  },
  {
   "cell_type": "code",
   "execution_count": null,
   "metadata": {
    "colab": {
     "base_uri": "https://localhost:8080/"
    },
    "executionInfo": {
     "elapsed": 395,
     "status": "ok",
     "timestamp": 1665128986345,
     "user": {
      "displayName": "Saunak Dutta",
      "userId": "14801554564735153679"
     },
     "user_tz": -330
    },
    "id": "LSxsxFy4avwq",
    "outputId": "2754713d-ce40-46a7-fb35-a06902867c43"
   },
   "outputs": [],
   "source": [
    "print(MySet.pop())             # removes and returns a random element from the set\n",
    "\n",
    "MySet"
   ]
  },
  {
   "cell_type": "code",
   "execution_count": null,
   "metadata": {
    "colab": {
     "base_uri": "https://localhost:8080/"
    },
    "executionInfo": {
     "elapsed": 6,
     "status": "ok",
     "timestamp": 1665129048826,
     "user": {
      "displayName": "Saunak Dutta",
      "userId": "14801554564735153679"
     },
     "user_tz": -330
    },
    "id": "ncdT8s6MbI-l",
    "outputId": "d8a21534-ddf1-4b23-fe1a-ea4f5cf7df28"
   },
   "outputs": [],
   "source": [
    "MySet.clear()\n",
    "\n",
    "MySet"
   ]
  },
  {
   "cell_type": "code",
   "execution_count": null,
   "metadata": {
    "colab": {
     "base_uri": "https://localhost:8080/"
    },
    "executionInfo": {
     "elapsed": 5,
     "status": "ok",
     "timestamp": 1665129257452,
     "user": {
      "displayName": "Saunak Dutta",
      "userId": "14801554564735153679"
     },
     "user_tz": -330
    },
    "id": "AQdb6Zu8SHz1",
    "outputId": "149de745-7558-40c6-826e-45c94be3fe0e"
   },
   "outputs": [],
   "source": [
    "Set1 = {1, 2, 3, 4, 5, 6}\n",
    "Set2 = {4, 5, 6, 7, 8, 9}\n",
    "\n",
    "print(Set1 | Set2)           # Union\n",
    "print(Set1 & Set2)           # Intersection\n",
    "\n",
    "print(Set1 - Set2)           # Differences\n",
    "print(Set2 - Set1)\n",
    "\n",
    "print(Set1 ^ Set2)           # Symmetric Difference = (Set1 - Set2) | (Set2 - Set1)"
   ]
  },
  {
   "cell_type": "code",
   "execution_count": null,
   "metadata": {
    "colab": {
     "base_uri": "https://localhost:8080/"
    },
    "executionInfo": {
     "elapsed": 1588,
     "status": "ok",
     "timestamp": 1665129462562,
     "user": {
      "displayName": "Saunak Dutta",
      "userId": "14801554564735153679"
     },
     "user_tz": -330
    },
    "id": "JmBVlFmbcBQ_",
    "outputId": "efa10c3d-fd91-4819-ce69-ba25fbab0384"
   },
   "outputs": [],
   "source": [
    "Set3 = {1, 2, 3}\n",
    "\n",
    "print(Set3.issubset(Set1))\n",
    "print(Set1.issuperset(Set3))\n",
    "# print(Set1.isdisjoint(Set3))"
   ]
  },
  {
   "cell_type": "markdown",
   "metadata": {},
   "source": [
    "### Set Items\n",
    "\n",
    "Set items are unordered, unchangeable, and do not allow duplicate values."
   ]
  },
  {
   "cell_type": "markdown",
   "metadata": {},
   "source": [
    "### Unordered\n",
    "\n",
    "Unordered means that the items in a set do not have a defined order.\n",
    "\n",
    "Set items can appear in a different order every time you use them, and cannot be referred to by index or key."
   ]
  },
  {
   "cell_type": "raw",
   "metadata": {},
   "source": [
    "Every set element is unique (no duplicates) and must be immutable (cannot be changed). However, a set itself is mutable. We can add or remove items from it."
   ]
  },
  {
   "cell_type": "markdown",
   "metadata": {},
   "source": [
    "### Duplicates Not Allowed\n",
    "Sets cannot have two items with the same value."
   ]
  },
  {
   "cell_type": "markdown",
   "metadata": {
    "id": "2VuqiNJVEK3Q"
   },
   "source": [
    "## Dictionary"
   ]
  },
  {
   "cell_type": "code",
   "execution_count": 22,
   "metadata": {
    "colab": {
     "base_uri": "https://localhost:8080/"
    },
    "executionInfo": {
     "elapsed": 409,
     "status": "ok",
     "timestamp": 1665142682910,
     "user": {
      "displayName": "Saunak Dutta",
      "userId": "14801554564735153679"
     },
     "user_tz": -330
    },
    "id": "yUqI_3AiBLTg",
    "outputId": "72592ec1-f65e-4fc7-cc14-8a6e0f502958"
   },
   "outputs": [
    {
     "data": {
      "text/plain": [
       "{1: 'Sunday',\n",
       " 2: 'Monday',\n",
       " 3: 'Tuesday',\n",
       " 4: 'Wednesday',\n",
       " 5: 'Thursday',\n",
       " 6: 'Friday',\n",
       " 7: 'Saturday'}"
      ]
     },
     "execution_count": 22,
     "metadata": {},
     "output_type": "execute_result"
    }
   ],
   "source": [
    "# Creating Dictionary\n",
    "\n",
    "MyDict1 = {1:'Sunday', 2:'Monday', 3:'Tuesday', 4:'Wednesday', 5:'Thursday', 6:'Friday', 7:'Saturday'}\n",
    "MyDict1"
   ]
  },
  {
   "cell_type": "code",
   "execution_count": 23,
   "metadata": {
    "colab": {
     "base_uri": "https://localhost:8080/"
    },
    "executionInfo": {
     "elapsed": 589,
     "status": "ok",
     "timestamp": 1665142678676,
     "user": {
      "displayName": "Saunak Dutta",
      "userId": "14801554564735153679"
     },
     "user_tz": -330
    },
    "id": "wIp1VfPiFvLQ",
    "outputId": "2ed2d7c4-df78-4f52-e13f-022eee1758eb"
   },
   "outputs": [
    {
     "data": {
      "text/plain": [
       "{1: 'Sunday',\n",
       " 2: 'Monday',\n",
       " 3: 'Tuesday',\n",
       " 4: 'Wednesday',\n",
       " 5: 'Thursday',\n",
       " 6: 'Friday',\n",
       " 7: 'Saturday'}"
      ]
     },
     "execution_count": 23,
     "metadata": {},
     "output_type": "execute_result"
    }
   ],
   "source": [
    "MyList1 = [1, 2, 3, 4, 5, 6, 7]\n",
    "MyList2 = ['Sunday', 'Monday', 'Tuesday', 'Wednesday', 'Thursday', 'Friday', 'Saturday']\n",
    "\n",
    "MyDict2 = dict(zip(MyList1, MyList2))\n",
    "MyDict2"
   ]
  },
  {
   "cell_type": "code",
   "execution_count": 24,
   "metadata": {},
   "outputs": [
    {
     "name": "stdout",
     "output_type": "stream",
     "text": [
      "\n",
      "Dictionary with each item as a pair: \n",
      "{1: 'India', 2: 'For'}\n"
     ]
    }
   ],
   "source": [
    "# Creating a Dictionary \n",
    "# with each item as a Pair \n",
    "\n",
    "Dict = dict([(1, 'India'), (2, 'For')]) \n",
    "print(\"\\nDictionary with each item as a pair: \") \n",
    "print(Dict)"
   ]
  },
  {
   "cell_type": "code",
   "execution_count": 25,
   "metadata": {
    "colab": {
     "base_uri": "https://localhost:8080/"
    },
    "executionInfo": {
     "elapsed": 516,
     "status": "ok",
     "timestamp": 1665141872986,
     "user": {
      "displayName": "Saunak Dutta",
      "userId": "14801554564735153679"
     },
     "user_tz": -330
    },
    "id": "BO-AsAMJJX1A",
    "outputId": "4f3a5aff-91dc-4115-975d-47567314c721"
   },
   "outputs": [
    {
     "data": {
      "text/plain": [
       "{1: 'Holiday',\n",
       " 2: 'Holiday',\n",
       " 3: 'Holiday',\n",
       " 4: 'Holiday',\n",
       " 5: 'Holiday',\n",
       " 6: 'Holiday',\n",
       " 7: 'Holiday'}"
      ]
     },
     "execution_count": 25,
     "metadata": {},
     "output_type": "execute_result"
    }
   ],
   "source": [
    "MyDict3 = dict.fromkeys(MyList1, 'Holiday') #Returns a dictionary with the specified keys and value\n",
    "\n",
    "MyDict3"
   ]
  },
  {
   "cell_type": "code",
   "execution_count": 26,
   "metadata": {
    "colab": {
     "base_uri": "https://localhost:8080/"
    },
    "executionInfo": {
     "elapsed": 513,
     "status": "ok",
     "timestamp": 1665142689587,
     "user": {
      "displayName": "Saunak Dutta",
      "userId": "14801554564735153679"
     },
     "user_tz": -330
    },
    "id": "6F43IGdiMPWn",
    "outputId": "a0de3fe7-a355-4997-b1a1-872863fb0466"
   },
   "outputs": [
    {
     "name": "stdout",
     "output_type": "stream",
     "text": [
      "dict_keys([1, 2, 3, 4, 5, 6, 7])\n",
      "dict_values(['Sunday', 'Monday', 'Tuesday', 'Wednesday', 'Thursday', 'Friday', 'Saturday'])\n",
      "dict_items([(1, 'Sunday'), (2, 'Monday'), (3, 'Tuesday'), (4, 'Wednesday'), (5, 'Thursday'), (6, 'Friday'), (7, 'Saturday')])\n"
     ]
    }
   ],
   "source": [
    "print(MyDict1.keys())\n",
    "\n",
    "print(MyDict1.values())\n",
    "\n",
    "print(MyDict1.items())"
   ]
  },
  {
   "cell_type": "code",
   "execution_count": 27,
   "metadata": {
    "colab": {
     "base_uri": "https://localhost:8080/",
     "height": 35
    },
    "executionInfo": {
     "elapsed": 356,
     "status": "ok",
     "timestamp": 1665141876818,
     "user": {
      "displayName": "Saunak Dutta",
      "userId": "14801554564735153679"
     },
     "user_tz": -330
    },
    "id": "dp79jioTGiYv",
    "outputId": "de403b97-b3d4-4846-c6fd-975d4b7aafe8"
   },
   "outputs": [
    {
     "data": {
      "text/plain": [
       "'Tuesday'"
      ]
     },
     "execution_count": 27,
     "metadata": {},
     "output_type": "execute_result"
    }
   ],
   "source": [
    "MyDict1.get(3)"
   ]
  },
  {
   "cell_type": "code",
   "execution_count": 28,
   "metadata": {
    "colab": {
     "base_uri": "https://localhost:8080/"
    },
    "executionInfo": {
     "elapsed": 411,
     "status": "ok",
     "timestamp": 1665142826274,
     "user": {
      "displayName": "Saunak Dutta",
      "userId": "14801554564735153679"
     },
     "user_tz": -330
    },
    "id": "mfv3q9dfG3lY",
    "outputId": "4f3038d6-e6f8-4f4a-9c32-e9953c09f62f"
   },
   "outputs": [
    {
     "data": {
      "text/plain": [
       "{1: 'DaysInWeek',\n",
       " 2: 'Monday',\n",
       " 3: 'Tuesday',\n",
       " 4: 'Wednesday',\n",
       " 5: 'Thursday',\n",
       " 6: 'Friday',\n",
       " 7: 'Saturday'}"
      ]
     },
     "execution_count": 28,
     "metadata": {},
     "output_type": "execute_result"
    }
   ],
   "source": [
    "MyDict1.update({1:'DaysInWeek'})\n",
    "\n",
    "MyDict1"
   ]
  },
  {
   "cell_type": "code",
   "execution_count": 29,
   "metadata": {
    "colab": {
     "base_uri": "https://localhost:8080/"
    },
    "executionInfo": {
     "elapsed": 360,
     "status": "ok",
     "timestamp": 1665142863169,
     "user": {
      "displayName": "Saunak Dutta",
      "userId": "14801554564735153679"
     },
     "user_tz": -330
    },
    "id": "ZBP7OU4MP1IY",
    "outputId": "c335340e-30d6-4b59-95ec-d1d1bdca68e0"
   },
   "outputs": [
    {
     "data": {
      "text/plain": [
       "{1: 'Sunday',\n",
       " 2: 'Monday',\n",
       " 3: 'Tuesday',\n",
       " 4: 'Wednesday',\n",
       " 5: 'Thursday',\n",
       " 6: 'Friday',\n",
       " 7: 'Saturday',\n",
       " 0: 'DaysInWeek'}"
      ]
     },
     "execution_count": 29,
     "metadata": {},
     "output_type": "execute_result"
    }
   ],
   "source": [
    "MyDict2.update({0:'DaysInWeek'})\n",
    "\n",
    "MyDict2"
   ]
  },
  {
   "cell_type": "markdown",
   "metadata": {},
   "source": [
    "# Dictionary items are ordered, changeable, and does not allow duplicates.\n",
    "\n",
    "Dictionary items are presented in key:value pairs, and can be referred to by using the key name."
   ]
  },
  {
   "cell_type": "code",
   "execution_count": 30,
   "metadata": {
    "colab": {
     "base_uri": "https://localhost:8080/"
    },
    "executionInfo": {
     "elapsed": 377,
     "status": "ok",
     "timestamp": 1665141732231,
     "user": {
      "displayName": "Saunak Dutta",
      "userId": "14801554564735153679"
     },
     "user_tz": -330
    },
    "id": "_uTkBVmhHh6I",
    "outputId": "e9e827e2-86ba-4fa5-9271-124a7c9de019"
   },
   "outputs": [
    {
     "data": {
      "text/plain": [
       "{'brand': 'Ford', 'model': 'Mustang', 'year': 1964, 'color': 'White'}"
      ]
     },
     "execution_count": 30,
     "metadata": {},
     "output_type": "execute_result"
    }
   ],
   "source": [
    "car1 = {\n",
    "  \"brand\": \"Ford\",\n",
    "  \"model\": \"Mustang\",\n",
    "  \"year\": 1964\n",
    "}\n",
    "\n",
    "car1.setdefault(\"model\", \"Bronco\")\n",
    "car1.setdefault(\"color\", \"White\")\n",
    "\n",
    "car1"
   ]
  },
  {
   "cell_type": "markdown",
   "metadata": {},
   "source": [
    "# Adding Element in Dictionary\n"
   ]
  },
  {
   "cell_type": "code",
   "execution_count": 31,
   "metadata": {},
   "outputs": [
    {
     "name": "stdout",
     "output_type": "stream",
     "text": [
      "Empty Dictionary: \n",
      "{}\n",
      "\n",
      "Dictionary after adding 3 elements: \n",
      "{0: 'India', 2: 'For', 3: 1, 'a': 6, 9: 100}\n"
     ]
    }
   ],
   "source": [
    "# Creating an empty Dictionary \n",
    "Dict = {} \n",
    "print(\"Empty Dictionary: \") \n",
    "print(Dict) \n",
    "  \n",
    "# Adding elements one at a time \n",
    "Dict[0] = 'India'\n",
    "Dict[2] = 'For'\n",
    "Dict[3] = 1\n",
    "Dict['a']=6\n",
    "Dict[9]=100\n",
    "print(\"\\nDictionary after adding 3 elements: \") \n",
    "print(Dict)\n"
   ]
  },
  {
   "cell_type": "code",
   "execution_count": 32,
   "metadata": {},
   "outputs": [
    {
     "data": {
      "text/plain": [
       "{0: 'India', 2: 'For', 3: 1, 'a': 6, 9: 100, 10: 200}"
      ]
     },
     "execution_count": 32,
     "metadata": {},
     "output_type": "execute_result"
    }
   ],
   "source": [
    "Dict[10]=200\n",
    "Dict"
   ]
  },
  {
   "cell_type": "code",
   "execution_count": 33,
   "metadata": {},
   "outputs": [
    {
     "data": {
      "text/plain": [
       "'For'"
      ]
     },
     "execution_count": 33,
     "metadata": {},
     "output_type": "execute_result"
    }
   ],
   "source": [
    "Dict[2]"
   ]
  },
  {
   "cell_type": "code",
   "execution_count": 34,
   "metadata": {},
   "outputs": [
    {
     "data": {
      "text/plain": [
       "{0: 'India', 2: 'For', 3: 1, 'a': 6, 9: 100, 10: 200}"
      ]
     },
     "execution_count": 34,
     "metadata": {},
     "output_type": "execute_result"
    }
   ],
   "source": [
    "Dict"
   ]
  },
  {
   "cell_type": "code",
   "execution_count": 35,
   "metadata": {},
   "outputs": [],
   "source": [
    "# pop"
   ]
  },
  {
   "cell_type": "code",
   "execution_count": 36,
   "metadata": {
    "colab": {
     "base_uri": "https://localhost:8080/"
    },
    "executionInfo": {
     "elapsed": 360,
     "status": "ok",
     "timestamp": 1665143117423,
     "user": {
      "displayName": "Saunak Dutta",
      "userId": "14801554564735153679"
     },
     "user_tz": -330
    },
    "id": "5hbBgdNqKhjH",
    "outputId": "33652bdf-dfa2-42f5-8884-89d8b50355be"
   },
   "outputs": [
    {
     "name": "stdout",
     "output_type": "stream",
     "text": [
      "DaysInWeek\n"
     ]
    },
    {
     "data": {
      "text/plain": [
       "{1: 'Sunday',\n",
       " 2: 'Monday',\n",
       " 3: 'Tuesday',\n",
       " 4: 'Wednesday',\n",
       " 5: 'Thursday',\n",
       " 6: 'Friday',\n",
       " 7: 'Saturday'}"
      ]
     },
     "execution_count": 36,
     "metadata": {},
     "output_type": "execute_result"
    }
   ],
   "source": [
    "print(MyDict2.pop(0))\n",
    "\n",
    "MyDict2"
   ]
  },
  {
   "cell_type": "code",
   "execution_count": 37,
   "metadata": {
    "colab": {
     "base_uri": "https://localhost:8080/"
    },
    "executionInfo": {
     "elapsed": 361,
     "status": "ok",
     "timestamp": 1665141752668,
     "user": {
      "displayName": "Saunak Dutta",
      "userId": "14801554564735153679"
     },
     "user_tz": -330
    },
    "id": "KIad6C3pLde3",
    "outputId": "8e74a896-6c2f-49ea-f926-7d2dc354f4a2"
   },
   "outputs": [
    {
     "name": "stdout",
     "output_type": "stream",
     "text": [
      "('color', 'White')\n"
     ]
    },
    {
     "data": {
      "text/plain": [
       "{'brand': 'Ford', 'model': 'Mustang', 'year': 1964}"
      ]
     },
     "execution_count": 37,
     "metadata": {},
     "output_type": "execute_result"
    }
   ],
   "source": [
    "print(car1.popitem())\n",
    "\n",
    "car1"
   ]
  },
  {
   "cell_type": "raw",
   "metadata": {},
   "source": [
    "List: Ordered, changeable, allow duplicates\n",
    "    \n",
    "Tuple: Ordered, Not Changeable, allow duplicates\n",
    "    \n",
    "dictionary: Ordered ,Changebale , not allow ducplicates "
   ]
  },
  {
   "cell_type": "code",
   "execution_count": null,
   "metadata": {
    "id": "XoP0bhJqLlIf"
   },
   "outputs": [],
   "source": []
  }
 ],
 "metadata": {
  "colab": {
   "authorship_tag": "ABX9TyPZ9jlfSEzYcfUl3NWfrQR1",
   "provenance": []
  },
  "kernelspec": {
   "display_name": "Python 3 (ipykernel)",
   "language": "python",
   "name": "python3"
  },
  "language_info": {
   "codemirror_mode": {
    "name": "ipython",
    "version": 3
   },
   "file_extension": ".py",
   "mimetype": "text/x-python",
   "name": "python",
   "nbconvert_exporter": "python",
   "pygments_lexer": "ipython3",
   "version": "3.9.13"
  }
 },
 "nbformat": 4,
 "nbformat_minor": 1
}
