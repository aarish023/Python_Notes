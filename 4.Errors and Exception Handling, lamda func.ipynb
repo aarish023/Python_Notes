{
 "cells": [
  {
   "cell_type": "markdown",
   "metadata": {
    "id": "RqXvs5I3RHBG"
   },
   "source": [
    "#### Syntax Error"
   ]
  },
  {
   "cell_type": "code",
   "execution_count": null,
   "metadata": {
    "colab": {
     "base_uri": "https://localhost:8080/",
     "height": 130
    },
    "executionInfo": {
     "elapsed": 14,
     "status": "error",
     "timestamp": 1665378133476,
     "user": {
      "displayName": "Saunak Dutta",
      "userId": "14801554564735153679"
     },
     "user_tz": -330
    },
    "id": "ioYJcbu9QmmF",
    "outputId": "8f432c85-b821-4aa6-be01-7e7a5cab7515"
   },
   "outputs": [
    {
     "ename": "SyntaxError",
     "evalue": "ignored",
     "output_type": "error",
     "traceback": [
      "\u001b[0;36m  File \u001b[0;32m\"<ipython-input-1-dabf489e9f92>\"\u001b[0;36m, line \u001b[0;32m1\u001b[0m\n\u001b[0;31m    print \"Hello\"\u001b[0m\n\u001b[0m                ^\u001b[0m\n\u001b[0;31mSyntaxError\u001b[0m\u001b[0;31m:\u001b[0m Missing parentheses in call to 'print'. Did you mean print(\"Hello\")?\n"
     ]
    }
   ],
   "source": [
    "print \"Hello\""
   ]
  },
  {
   "cell_type": "markdown",
   "metadata": {
    "id": "AnTc7EIxRFeu"
   },
   "source": [
    "#### Index Error"
   ]
  },
  {
   "cell_type": "code",
   "execution_count": 2,
   "metadata": {
    "colab": {
     "base_uri": "https://localhost:8080/",
     "height": 200
    },
    "executionInfo": {
     "elapsed": 10,
     "status": "error",
     "timestamp": 1665378244788,
     "user": {
      "displayName": "Saunak Dutta",
      "userId": "14801554564735153679"
     },
     "user_tz": -330
    },
    "id": "BzkkjsNtRvKe",
    "outputId": "e9182d2d-b2de-4998-f341-2e664098fd07"
   },
   "outputs": [
    {
     "ename": "IndexError",
     "evalue": "list index out of range",
     "output_type": "error",
     "traceback": [
      "\u001b[1;31m---------------------------------------------------------------------------\u001b[0m",
      "\u001b[1;31mIndexError\u001b[0m                                Traceback (most recent call last)",
      "Input \u001b[1;32mIn [2]\u001b[0m, in \u001b[0;36m<cell line: 3>\u001b[1;34m()\u001b[0m\n\u001b[0;32m      1\u001b[0m MyList \u001b[38;5;241m=\u001b[39m [\u001b[38;5;241m2\u001b[39m, \u001b[38;5;241m4\u001b[39m, \u001b[38;5;241m5\u001b[39m]\n\u001b[1;32m----> 3\u001b[0m \u001b[43mMyList\u001b[49m\u001b[43m[\u001b[49m\u001b[38;5;241;43m3\u001b[39;49m\u001b[43m]\u001b[49m\n",
      "\u001b[1;31mIndexError\u001b[0m: list index out of range"
     ]
    }
   ],
   "source": [
    "MyList = [2, 4, 5]\n",
    "\n",
    "MyList[3]"
   ]
  },
  {
   "cell_type": "markdown",
   "metadata": {
    "id": "uucIu6b7SAp9"
   },
   "source": [
    "#### Key Error"
   ]
  },
  {
   "cell_type": "code",
   "execution_count": null,
   "metadata": {
    "colab": {
     "base_uri": "https://localhost:8080/",
     "height": 201
    },
    "executionInfo": {
     "elapsed": 7,
     "status": "error",
     "timestamp": 1665403154206,
     "user": {
      "displayName": "Saunak Dutta",
      "userId": "14801554564735153679"
     },
     "user_tz": -330
    },
    "id": "YavlVktXR1JQ",
    "outputId": "e5d350ed-fd28-4e22-aa43-f2f871b8c4a6"
   },
   "outputs": [
    {
     "ename": "KeyError",
     "evalue": "ignored",
     "output_type": "error",
     "traceback": [
      "\u001b[0;31m---------------------------------------------------------------------------\u001b[0m",
      "\u001b[0;31mKeyError\u001b[0m                                  Traceback (most recent call last)",
      "\u001b[0;32m<ipython-input-137-5f1e895ab98e>\u001b[0m in \u001b[0;36m<module>\u001b[0;34m\u001b[0m\n\u001b[1;32m      1\u001b[0m \u001b[0mMyDict\u001b[0m \u001b[0;34m=\u001b[0m \u001b[0;34m{\u001b[0m\u001b[0;36m1\u001b[0m\u001b[0;34m:\u001b[0m\u001b[0;34m'Sweden'\u001b[0m\u001b[0;34m,\u001b[0m \u001b[0;36m2\u001b[0m\u001b[0;34m:\u001b[0m\u001b[0;34m'Denmark'\u001b[0m\u001b[0;34m,\u001b[0m \u001b[0;36m3\u001b[0m\u001b[0;34m:\u001b[0m\u001b[0;34m'Norway'\u001b[0m\u001b[0;34m}\u001b[0m\u001b[0;34m\u001b[0m\u001b[0;34m\u001b[0m\u001b[0m\n\u001b[1;32m      2\u001b[0m \u001b[0;34m\u001b[0m\u001b[0m\n\u001b[0;32m----> 3\u001b[0;31m \u001b[0mMyDict\u001b[0m\u001b[0;34m[\u001b[0m\u001b[0;36m0\u001b[0m\u001b[0;34m]\u001b[0m\u001b[0;34m\u001b[0m\u001b[0;34m\u001b[0m\u001b[0m\n\u001b[0m",
      "\u001b[0;31mKeyError\u001b[0m: 0"
     ]
    }
   ],
   "source": [
    "MyDict = {1:'Sweden', 2:'Denmark', 3:'Norway'}\n",
    "\n",
    "MyDict[0]"
   ]
  },
  {
   "cell_type": "markdown",
   "metadata": {
    "id": "SAZpe8BfS5Z9"
   },
   "source": [
    "#### Type Error"
   ]
  },
  {
   "cell_type": "code",
   "execution_count": null,
   "metadata": {
    "colab": {
     "base_uri": "https://localhost:8080/",
     "height": 166
    },
    "executionInfo": {
     "elapsed": 5,
     "status": "error",
     "timestamp": 1665403263177,
     "user": {
      "displayName": "Saunak Dutta",
      "userId": "14801554564735153679"
     },
     "user_tz": -330
    },
    "id": "1G61xnLKSZ9k",
    "outputId": "bdcf020a-98a8-4d89-ee7f-c3e552035580"
   },
   "outputs": [
    {
     "ename": "TypeError",
     "evalue": "ignored",
     "output_type": "error",
     "traceback": [
      "\u001b[0;31m---------------------------------------------------------------------------\u001b[0m",
      "\u001b[0;31mTypeError\u001b[0m                                 Traceback (most recent call last)",
      "\u001b[0;32m<ipython-input-139-80052203e394>\u001b[0m in \u001b[0;36m<module>\u001b[0;34m\u001b[0m\n\u001b[0;32m----> 1\u001b[0;31m \u001b[0;36m2\u001b[0m \u001b[0;34m+\u001b[0m \u001b[0;34m\"2\"\u001b[0m\u001b[0;34m\u001b[0m\u001b[0;34m\u001b[0m\u001b[0m\n\u001b[0m",
      "\u001b[0;31mTypeError\u001b[0m: unsupported operand type(s) for +: 'int' and 'str'"
     ]
    }
   ],
   "source": [
    "2 + \"2\""
   ]
  },
  {
   "cell_type": "markdown",
   "metadata": {
    "id": "FQRN0oxHTOcD"
   },
   "source": [
    "#### Value Error"
   ]
  },
  {
   "cell_type": "code",
   "execution_count": 4,
   "metadata": {
    "colab": {
     "base_uri": "https://localhost:8080/",
     "height": 217
    },
    "executionInfo": {
     "elapsed": 935,
     "status": "error",
     "timestamp": 1665378640866,
     "user": {
      "displayName": "Saunak Dutta",
      "userId": "14801554564735153679"
     },
     "user_tz": -330
    },
    "id": "nYsHz13KTGyv",
    "outputId": "07cd727c-fdf4-4325-c185-de0be5223d10"
   },
   "outputs": [
    {
     "name": "stdout",
     "output_type": "stream",
     "text": [
      "123\n"
     ]
    },
    {
     "ename": "ValueError",
     "evalue": "invalid literal for int() with base 10: 'xyz'",
     "output_type": "error",
     "traceback": [
      "\u001b[1;31m---------------------------------------------------------------------------\u001b[0m",
      "\u001b[1;31mValueError\u001b[0m                                Traceback (most recent call last)",
      "Input \u001b[1;32mIn [4]\u001b[0m, in \u001b[0;36m<cell line: 3>\u001b[1;34m()\u001b[0m\n\u001b[0;32m      1\u001b[0m \u001b[38;5;28mprint\u001b[39m(\u001b[38;5;28mint\u001b[39m(\u001b[38;5;124m'\u001b[39m\u001b[38;5;124m123\u001b[39m\u001b[38;5;124m'\u001b[39m))\n\u001b[1;32m----> 3\u001b[0m \u001b[38;5;28;43mint\u001b[39;49m\u001b[43m(\u001b[49m\u001b[38;5;124;43m'\u001b[39;49m\u001b[38;5;124;43mxyz\u001b[39;49m\u001b[38;5;124;43m'\u001b[39;49m\u001b[43m)\u001b[49m\n",
      "\u001b[1;31mValueError\u001b[0m: invalid literal for int() with base 10: 'xyz'"
     ]
    }
   ],
   "source": [
    "print(int('123'))\n",
    "\n",
    "int('xyz')"
   ]
  },
  {
   "cell_type": "markdown",
   "metadata": {
    "id": "Ym_tee4ZTjLS"
   },
   "source": [
    "#### Name Error"
   ]
  },
  {
   "cell_type": "code",
   "execution_count": null,
   "metadata": {},
   "outputs": [],
   "source": []
  },
  {
   "cell_type": "code",
   "execution_count": null,
   "metadata": {
    "colab": {
     "base_uri": "https://localhost:8080/",
     "height": 200
    },
    "executionInfo": {
     "elapsed": 9,
     "status": "error",
     "timestamp": 1665378683727,
     "user": {
      "displayName": "Saunak Dutta",
      "userId": "14801554564735153679"
     },
     "user_tz": -330
    },
    "id": "_GthpiZlS9Jg",
    "outputId": "c409f6fd-34bf-4a24-abca-ce589f9891e7"
   },
   "outputs": [
    {
     "ename": "NameError",
     "evalue": "ignored",
     "output_type": "error",
     "traceback": [
      "\u001b[0;31m---------------------------------------------------------------------------\u001b[0m",
      "\u001b[0;31mNameError\u001b[0m                                 Traceback (most recent call last)",
      "\u001b[0;32m<ipython-input-10-a4f5a0e933b5>\u001b[0m in \u001b[0;36m<module>\u001b[0;34m\u001b[0m\n\u001b[1;32m      3\u001b[0m \u001b[0;32mdel\u001b[0m \u001b[0mMyAge\u001b[0m\u001b[0;34m\u001b[0m\u001b[0;34m\u001b[0m\u001b[0m\n\u001b[1;32m      4\u001b[0m \u001b[0;34m\u001b[0m\u001b[0m\n\u001b[0;32m----> 5\u001b[0;31m \u001b[0mMyAge\u001b[0m\u001b[0;34m\u001b[0m\u001b[0;34m\u001b[0m\u001b[0m\n\u001b[0m",
      "\u001b[0;31mNameError\u001b[0m: name 'MyAge' is not defined"
     ]
    }
   ],
   "source": [
    "MyAge = 32\n",
    "\n",
    "del MyAge\n",
    "\n",
    "MyAge"
   ]
  },
  {
   "cell_type": "markdown",
   "metadata": {
    "id": "U-eLCPAWZ0EP"
   },
   "source": [
    "#### Attribute Error"
   ]
  },
  {
   "cell_type": "code",
   "execution_count": null,
   "metadata": {
    "colab": {
     "base_uri": "https://localhost:8080/",
     "height": 183
    },
    "executionInfo": {
     "elapsed": 9,
     "status": "error",
     "timestamp": 1665380452306,
     "user": {
      "displayName": "Saunak Dutta",
      "userId": "14801554564735153679"
     },
     "user_tz": -330
    },
    "id": "ZuiTROWPZ3jx",
    "outputId": "5fc449bb-aced-483e-d1eb-388b8cf88520"
   },
   "outputs": [
    {
     "ename": "AttributeError",
     "evalue": "ignored",
     "output_type": "error",
     "traceback": [
      "\u001b[0;31m---------------------------------------------------------------------------\u001b[0m",
      "\u001b[0;31mAttributeError\u001b[0m                            Traceback (most recent call last)",
      "\u001b[0;32m<ipython-input-21-a50d74d5f5ab>\u001b[0m in \u001b[0;36m<module>\u001b[0;34m\u001b[0m\n\u001b[1;32m      1\u001b[0m \u001b[0ma\u001b[0m \u001b[0;34m=\u001b[0m\u001b[0;36m10\u001b[0m\u001b[0;34m\u001b[0m\u001b[0;34m\u001b[0m\u001b[0m\n\u001b[0;32m----> 2\u001b[0;31m \u001b[0ma\u001b[0m\u001b[0;34m.\u001b[0m\u001b[0mappend\u001b[0m\u001b[0;34m(\u001b[0m\u001b[0;36m5\u001b[0m\u001b[0;34m)\u001b[0m\u001b[0;34m\u001b[0m\u001b[0;34m\u001b[0m\u001b[0m\n\u001b[0m",
      "\u001b[0;31mAttributeError\u001b[0m: 'int' object has no attribute 'append'"
     ]
    }
   ],
   "source": [
    "a =10\n",
    "a.append(5)"
   ]
  },
  {
   "cell_type": "markdown",
   "metadata": {
    "id": "K6NuusivT1Hu"
   },
   "source": [
    "#### Zero Division Error"
   ]
  },
  {
   "cell_type": "code",
   "execution_count": null,
   "metadata": {
    "colab": {
     "base_uri": "https://localhost:8080/",
     "height": 201
    },
    "executionInfo": {
     "elapsed": 11,
     "status": "error",
     "timestamp": 1665403833267,
     "user": {
      "displayName": "Saunak Dutta",
      "userId": "14801554564735153679"
     },
     "user_tz": -330
    },
    "id": "8up72nECTzsp",
    "outputId": "d9ccae04-c46f-4f97-85c0-1ff2b26099e5"
   },
   "outputs": [],
   "source": [
    "def Div(a, b):\n",
    "    return a/b"
   ]
  },
  {
   "cell_type": "code",
   "execution_count": 6,
   "metadata": {
    "colab": {
     "base_uri": "https://localhost:8080/",
     "height": 201
    },
    "executionInfo": {
     "elapsed": 11,
     "status": "error",
     "timestamp": 1665403833267,
     "user": {
      "displayName": "Saunak Dutta",
      "userId": "14801554564735153679"
     },
     "user_tz": -330
    },
    "id": "8up72nECTzsp",
    "outputId": "d9ccae04-c46f-4f97-85c0-1ff2b26099e5"
   },
   "outputs": [
    {
     "ename": "ZeroDivisionError",
     "evalue": "division by zero",
     "output_type": "error",
     "traceback": [
      "\u001b[1;31m---------------------------------------------------------------------------\u001b[0m",
      "\u001b[1;31mZeroDivisionError\u001b[0m                         Traceback (most recent call last)",
      "Input \u001b[1;32mIn [6]\u001b[0m, in \u001b[0;36m<cell line: 4>\u001b[1;34m()\u001b[0m\n\u001b[0;32m      1\u001b[0m \u001b[38;5;28;01mdef\u001b[39;00m \u001b[38;5;21mDiv\u001b[39m(a, b):\n\u001b[0;32m      2\u001b[0m     \u001b[38;5;28;01mreturn\u001b[39;00m a\u001b[38;5;241m/\u001b[39mb\n\u001b[1;32m----> 4\u001b[0m \u001b[43mDiv\u001b[49m\u001b[43m(\u001b[49m\u001b[38;5;241;43m100\u001b[39;49m\u001b[43m,\u001b[49m\u001b[38;5;241;43m0\u001b[39;49m\u001b[43m)\u001b[49m\n",
      "Input \u001b[1;32mIn [6]\u001b[0m, in \u001b[0;36mDiv\u001b[1;34m(a, b)\u001b[0m\n\u001b[0;32m      1\u001b[0m \u001b[38;5;28;01mdef\u001b[39;00m \u001b[38;5;21mDiv\u001b[39m(a, b):\n\u001b[1;32m----> 2\u001b[0m     \u001b[38;5;28;01mreturn\u001b[39;00m \u001b[43ma\u001b[49m\u001b[38;5;241;43m/\u001b[39;49m\u001b[43mb\u001b[49m\n",
      "\u001b[1;31mZeroDivisionError\u001b[0m: division by zero"
     ]
    }
   ],
   "source": [
    "Div(100,0)"
   ]
  },
  {
   "cell_type": "markdown",
   "metadata": {
    "id": "TJfACVQ2T6ft"
   },
   "source": [
    "#### Stop Iteration"
   ]
  },
  {
   "cell_type": "code",
   "execution_count": 12,
   "metadata": {
    "colab": {
     "base_uri": "https://localhost:8080/",
     "height": 253
    },
    "executionInfo": {
     "elapsed": 424,
     "status": "error",
     "timestamp": 1665404325656,
     "user": {
      "displayName": "Saunak Dutta",
      "userId": "14801554564735153679"
     },
     "user_tz": -330
    },
    "id": "k263Ig_MTgSW",
    "outputId": "604ef49f-fbf9-4c45-cbe9-010b6e33a863"
   },
   "outputs": [],
   "source": [
    "MyList = [2, 4, 5]\n",
    "\n",
    "MyIterator = iter(MyList)"
   ]
  },
  {
   "cell_type": "code",
   "execution_count": 9,
   "metadata": {},
   "outputs": [
    {
     "data": {
      "text/plain": [
       "list_iterator"
      ]
     },
     "execution_count": 9,
     "metadata": {},
     "output_type": "execute_result"
    }
   ],
   "source": [
    "type(MyIterator)"
   ]
  },
  {
   "cell_type": "code",
   "execution_count": 11,
   "metadata": {
    "colab": {
     "base_uri": "https://localhost:8080/",
     "height": 253
    },
    "executionInfo": {
     "elapsed": 424,
     "status": "error",
     "timestamp": 1665404325656,
     "user": {
      "displayName": "Saunak Dutta",
      "userId": "14801554564735153679"
     },
     "user_tz": -330
    },
    "id": "k263Ig_MTgSW",
    "outputId": "604ef49f-fbf9-4c45-cbe9-010b6e33a863"
   },
   "outputs": [
    {
     "ename": "StopIteration",
     "evalue": "",
     "output_type": "error",
     "traceback": [
      "\u001b[1;31m---------------------------------------------------------------------------\u001b[0m",
      "\u001b[1;31mStopIteration\u001b[0m                             Traceback (most recent call last)",
      "Input \u001b[1;32mIn [11]\u001b[0m, in \u001b[0;36m<cell line: 1>\u001b[1;34m()\u001b[0m\n\u001b[0;32m      1\u001b[0m \u001b[38;5;28;01mfor\u001b[39;00m i \u001b[38;5;129;01min\u001b[39;00m \u001b[38;5;28mrange\u001b[39m(\u001b[38;5;241m0\u001b[39m,\u001b[38;5;28mlen\u001b[39m(MyList)\u001b[38;5;241m+\u001b[39m\u001b[38;5;241m1\u001b[39m):\n\u001b[1;32m----> 2\u001b[0m   \u001b[38;5;28mprint\u001b[39m(\u001b[38;5;28;43mnext\u001b[39;49m\u001b[43m(\u001b[49m\u001b[43mMyIterator\u001b[49m\u001b[43m)\u001b[49m)\n",
      "\u001b[1;31mStopIteration\u001b[0m: "
     ]
    }
   ],
   "source": [
    "for i in range(0,len(MyList)+1):\n",
    "    print(next(MyIterator))"
   ]
  },
  {
   "cell_type": "code",
   "execution_count": 17,
   "metadata": {
    "colab": {
     "base_uri": "https://localhost:8080/"
    },
    "executionInfo": {
     "elapsed": 6,
     "status": "ok",
     "timestamp": 1665404397710,
     "user": {
      "displayName": "Saunak Dutta",
      "userId": "14801554564735153679"
     },
     "user_tz": -330
    },
    "id": "Q5ZYIi3E06dW",
    "outputId": "54050a12-d7d7-423a-e336-29d3efeb184e"
   },
   "outputs": [
    {
     "data": {
      "text/plain": [
       "(2, 4, 5)"
      ]
     },
     "execution_count": 17,
     "metadata": {},
     "output_type": "execute_result"
    }
   ],
   "source": [
    "MyIterator = iter(MyList)\n",
    "\n",
    "next(MyIterator), next(MyIterator), next(MyIterator)"
   ]
  },
  {
   "cell_type": "markdown",
   "metadata": {
    "id": "3abu0nL6VZzt"
   },
   "source": [
    "#### Indentation Error"
   ]
  },
  {
   "cell_type": "code",
   "execution_count": null,
   "metadata": {
    "colab": {
     "base_uri": "https://localhost:8080/",
     "height": 131
    },
    "executionInfo": {
     "elapsed": 422,
     "status": "error",
     "timestamp": 1665404555076,
     "user": {
      "displayName": "Saunak Dutta",
      "userId": "14801554564735153679"
     },
     "user_tz": -330
    },
    "id": "DeOROMsXUa_T",
    "outputId": "2da43f37-9629-4e9d-aa6d-7e7893ebefc1"
   },
   "outputs": [
    {
     "ename": "IndentationError",
     "evalue": "ignored",
     "output_type": "error",
     "traceback": [
      "\u001b[0;36m  File \u001b[0;32m\"<ipython-input-154-da81e0aefbcd>\"\u001b[0;36m, line \u001b[0;32m2\u001b[0m\n\u001b[0;31m    print(i)\u001b[0m\n\u001b[0m        ^\u001b[0m\n\u001b[0;31mIndentationError\u001b[0m\u001b[0;31m:\u001b[0m expected an indented block\n"
     ]
    }
   ],
   "source": [
    "for i in range(1, 11, 1):\n",
    "    print(i)"
   ]
  },
  {
   "cell_type": "markdown",
   "metadata": {
    "id": "Ec5D9OFHVtx0"
   },
   "source": [
    "#### Import Error"
   ]
  },
  {
   "cell_type": "code",
   "execution_count": 19,
   "metadata": {
    "colab": {
     "base_uri": "https://localhost:8080/",
     "height": 305
    },
    "executionInfo": {
     "elapsed": 373,
     "status": "error",
     "timestamp": 1665404591840,
     "user": {
      "displayName": "Saunak Dutta",
      "userId": "14801554564735153679"
     },
     "user_tz": -330
    },
    "id": "d1XqnL2ZVm6q",
    "outputId": "c3103e0b-49d5-46af-c8d7-b5e3c2b1a4aa"
   },
   "outputs": [
    {
     "ename": "ImportError",
     "evalue": "cannot import name 'cube' from 'math' (unknown location)",
     "output_type": "error",
     "traceback": [
      "\u001b[1;31m---------------------------------------------------------------------------\u001b[0m",
      "\u001b[1;31mImportError\u001b[0m                               Traceback (most recent call last)",
      "Input \u001b[1;32mIn [19]\u001b[0m, in \u001b[0;36m<cell line: 1>\u001b[1;34m()\u001b[0m\n\u001b[1;32m----> 1\u001b[0m \u001b[38;5;28;01mfrom\u001b[39;00m \u001b[38;5;21;01mmath\u001b[39;00m \u001b[38;5;28;01mimport\u001b[39;00m cube\n",
      "\u001b[1;31mImportError\u001b[0m: cannot import name 'cube' from 'math' (unknown location)"
     ]
    }
   ],
   "source": [
    "from math import cube\n"
   ]
  },
  {
   "cell_type": "markdown",
   "metadata": {
    "id": "hUjDwIisV3d-"
   },
   "source": [
    "#### Module Not Found"
   ]
  },
  {
   "cell_type": "code",
   "execution_count": 20,
   "metadata": {
    "id": "NN17zdL2V0ZX"
   },
   "outputs": [],
   "source": [
    "import numpy as np"
   ]
  },
  {
   "cell_type": "code",
   "execution_count": 21,
   "metadata": {
    "colab": {
     "base_uri": "https://localhost:8080/",
     "height": 304
    },
    "executionInfo": {
     "elapsed": 1300,
     "status": "error",
     "timestamp": 1665410918160,
     "user": {
      "displayName": "Saunak Dutta",
      "userId": "14801554564735153679"
     },
     "user_tz": -330
    },
    "id": "7HDfFHE7WDPt",
    "outputId": "4eef097d-cb86-40d6-a62b-506da91d88a8"
   },
   "outputs": [
    {
     "ename": "ModuleNotFoundError",
     "evalue": "No module named 'NotAModule'",
     "output_type": "error",
     "traceback": [
      "\u001b[1;31m---------------------------------------------------------------------------\u001b[0m",
      "\u001b[1;31mModuleNotFoundError\u001b[0m                       Traceback (most recent call last)",
      "Input \u001b[1;32mIn [21]\u001b[0m, in \u001b[0;36m<cell line: 1>\u001b[1;34m()\u001b[0m\n\u001b[1;32m----> 1\u001b[0m \u001b[38;5;28;01mimport\u001b[39;00m \u001b[38;5;21;01mNotAModule\u001b[39;00m\n",
      "\u001b[1;31mModuleNotFoundError\u001b[0m: No module named 'NotAModule'"
     ]
    }
   ],
   "source": [
    "import NotAModule"
   ]
  },
  {
   "cell_type": "markdown",
   "metadata": {
    "id": "TQfbUhH7kNYJ"
   },
   "source": [
    "#### Assertion Error"
   ]
  },
  {
   "cell_type": "code",
   "execution_count": null,
   "metadata": {},
   "outputs": [],
   "source": [
    "# Assert - a confident and forceful statement of fact or belief."
   ]
  },
  {
   "cell_type": "code",
   "execution_count": 23,
   "metadata": {
    "colab": {
     "base_uri": "https://localhost:8080/",
     "height": 339
    },
    "executionInfo": {
     "elapsed": 495,
     "status": "error",
     "timestamp": 1665383090323,
     "user": {
      "displayName": "Saunak Dutta",
      "userId": "14801554564735153679"
     },
     "user_tz": -330
    },
    "id": "LPelz8z1WIuG",
    "outputId": "d9109622-51f4-4773-fb25-d46da99b11cb"
   },
   "outputs": [],
   "source": [
    "def avg(marks):\n",
    "    assert len(marks) != 0,\"List is empty.\"\n",
    "    return sum(marks)/len(marks)"
   ]
  },
  {
   "cell_type": "code",
   "execution_count": 24,
   "metadata": {
    "colab": {
     "base_uri": "https://localhost:8080/",
     "height": 339
    },
    "executionInfo": {
     "elapsed": 495,
     "status": "error",
     "timestamp": 1665383090323,
     "user": {
      "displayName": "Saunak Dutta",
      "userId": "14801554564735153679"
     },
     "user_tz": -330
    },
    "id": "LPelz8z1WIuG",
    "outputId": "d9109622-51f4-4773-fb25-d46da99b11cb"
   },
   "outputs": [
    {
     "name": "stdout",
     "output_type": "stream",
     "text": [
      "Average of mark2: 78.0\n"
     ]
    }
   ],
   "source": [
    "mark2 = [55,88,78,90,79]\n",
    "\n",
    "print(\"Average of mark2:\",avg(mark2))"
   ]
  },
  {
   "cell_type": "code",
   "execution_count": 25,
   "metadata": {
    "colab": {
     "base_uri": "https://localhost:8080/",
     "height": 339
    },
    "executionInfo": {
     "elapsed": 495,
     "status": "error",
     "timestamp": 1665383090323,
     "user": {
      "displayName": "Saunak Dutta",
      "userId": "14801554564735153679"
     },
     "user_tz": -330
    },
    "id": "LPelz8z1WIuG",
    "outputId": "d9109622-51f4-4773-fb25-d46da99b11cb"
   },
   "outputs": [
    {
     "ename": "AssertionError",
     "evalue": "List is empty.",
     "output_type": "error",
     "traceback": [
      "\u001b[1;31m---------------------------------------------------------------------------\u001b[0m",
      "\u001b[1;31mAssertionError\u001b[0m                            Traceback (most recent call last)",
      "Input \u001b[1;32mIn [25]\u001b[0m, in \u001b[0;36m<cell line: 3>\u001b[1;34m()\u001b[0m\n\u001b[0;32m      1\u001b[0m mark1 \u001b[38;5;241m=\u001b[39m []\n\u001b[1;32m----> 3\u001b[0m \u001b[38;5;28mprint\u001b[39m(\u001b[38;5;124m\"\u001b[39m\u001b[38;5;124mAverage of mark1:\u001b[39m\u001b[38;5;124m\"\u001b[39m,\u001b[43mavg\u001b[49m\u001b[43m(\u001b[49m\u001b[43mmark1\u001b[49m\u001b[43m)\u001b[49m)\n",
      "Input \u001b[1;32mIn [23]\u001b[0m, in \u001b[0;36mavg\u001b[1;34m(marks)\u001b[0m\n\u001b[0;32m      1\u001b[0m \u001b[38;5;28;01mdef\u001b[39;00m \u001b[38;5;21mavg\u001b[39m(marks):\n\u001b[1;32m----> 2\u001b[0m     \u001b[38;5;28;01massert\u001b[39;00m \u001b[38;5;28mlen\u001b[39m(marks) \u001b[38;5;241m!=\u001b[39m \u001b[38;5;241m0\u001b[39m,\u001b[38;5;124m\"\u001b[39m\u001b[38;5;124mList is empty.\u001b[39m\u001b[38;5;124m\"\u001b[39m\n\u001b[0;32m      3\u001b[0m     \u001b[38;5;28;01mreturn\u001b[39;00m \u001b[38;5;28msum\u001b[39m(marks)\u001b[38;5;241m/\u001b[39m\u001b[38;5;28mlen\u001b[39m(marks)\n",
      "\u001b[1;31mAssertionError\u001b[0m: List is empty."
     ]
    }
   ],
   "source": [
    "mark1 = []\n",
    "\n",
    "print(\"Average of mark1:\",avg(mark1))"
   ]
  },
  {
   "cell_type": "markdown",
   "metadata": {
    "id": "i81en3ohswmn"
   },
   "source": [
    "# Exception Handling"
   ]
  },
  {
   "cell_type": "markdown",
   "metadata": {},
   "source": [
    "###### Consider below case"
   ]
  },
  {
   "cell_type": "code",
   "execution_count": 27,
   "metadata": {},
   "outputs": [
    {
     "name": "stdout",
     "output_type": "stream",
     "text": [
      "Enter a:1\n",
      "Enter b:0\n"
     ]
    },
    {
     "ename": "ZeroDivisionError",
     "evalue": "division by zero",
     "output_type": "error",
     "traceback": [
      "\u001b[1;31m---------------------------------------------------------------------------\u001b[0m",
      "\u001b[1;31mZeroDivisionError\u001b[0m                         Traceback (most recent call last)",
      "Input \u001b[1;32mIn [27]\u001b[0m, in \u001b[0;36m<cell line: 3>\u001b[1;34m()\u001b[0m\n\u001b[0;32m      1\u001b[0m a \u001b[38;5;241m=\u001b[39m \u001b[38;5;28mint\u001b[39m(\u001b[38;5;28minput\u001b[39m(\u001b[38;5;124m\"\u001b[39m\u001b[38;5;124mEnter a:\u001b[39m\u001b[38;5;124m\"\u001b[39m))    \n\u001b[0;32m      2\u001b[0m b \u001b[38;5;241m=\u001b[39m \u001b[38;5;28mint\u001b[39m(\u001b[38;5;28minput\u001b[39m(\u001b[38;5;124m\"\u001b[39m\u001b[38;5;124mEnter b:\u001b[39m\u001b[38;5;124m\"\u001b[39m))    \n\u001b[1;32m----> 3\u001b[0m c \u001b[38;5;241m=\u001b[39m \u001b[43ma\u001b[49m\u001b[38;5;241;43m/\u001b[39;49m\u001b[43mb\u001b[49m  \n\u001b[0;32m      4\u001b[0m \u001b[38;5;28mprint\u001b[39m(\u001b[38;5;124m\"\u001b[39m\u001b[38;5;124ma/b = \u001b[39m\u001b[38;5;132;01m%d\u001b[39;00m\u001b[38;5;124m\"\u001b[39m \u001b[38;5;241m%\u001b[39mc)    \n\u001b[0;32m      6\u001b[0m \u001b[38;5;66;03m#other code: \u001b[39;00m\n",
      "\u001b[1;31mZeroDivisionError\u001b[0m: division by zero"
     ]
    }
   ],
   "source": [
    "a = int(input(\"Enter a:\"))    \n",
    "b = int(input(\"Enter b:\"))    \n",
    "c = a/b  \n",
    "print(\"a/b = %d\" %c)    \n",
    "    \n",
    "#other code:\n",
    "\n",
    "print(\"Hi I am other part of the program\")  "
   ]
  },
  {
   "cell_type": "raw",
   "metadata": {},
   "source": [
    "The above program is syntactically correct, but it through the error because of unusual input. \n",
    "\n",
    "That kind of programming may not be suitable or recommended for the projects because these projects are required uninterrupted execution. \n",
    "\n",
    "That's why an exception-handling plays an essential role in handling these unexpected exceptions. \n",
    "\n",
    "We can handle these exceptions in the following way."
   ]
  },
  {
   "cell_type": "markdown",
   "metadata": {},
   "source": [
    "# Exception handling in python"
   ]
  },
  {
   "cell_type": "markdown",
   "metadata": {},
   "source": [
    "### The try-expect statement"
   ]
  },
  {
   "cell_type": "raw",
   "metadata": {},
   "source": [
    "1. If the Python program contains suspicious code that may throw the exception, we must place that code in the try block. \n",
    "\n",
    "2. The try block must be followed with the except statement, which contains a block of code that will be executed if there is some exception in the try block."
   ]
  },
  {
   "attachments": {
    "try-except.png": {
     "image/png": "[encoded data removed]"
    }
   },
   "cell_type": "markdown",
   "metadata": {},
   "source": [
    "![try-except.png](attachment:try-except.png)"
   ]
  },
  {
   "cell_type": "raw",
   "metadata": {},
   "source": [
    "Syntax\n",
    "\n",
    "try:\n",
    "\n",
    "    #block of code     \n",
    "    \n",
    "except Exception1: \n",
    "\n",
    "    #block of code    \n",
    "    \n",
    "except Exception2:    \n",
    "    \n",
    "    #block of code    \n",
    "    \n",
    "#other code    "
   ]
  },
  {
   "cell_type": "markdown",
   "metadata": {},
   "source": [
    "Consider the following example."
   ]
  },
  {
   "cell_type": "code",
   "execution_count": 29,
   "metadata": {},
   "outputs": [
    {
     "name": "stdout",
     "output_type": "stream",
     "text": [
      "Enter a:10\n",
      "Enter b:10\n",
      "1.0\n"
     ]
    }
   ],
   "source": [
    "#Example 1\n",
    "\n",
    "try:  \n",
    "    a = int(input(\"Enter a:\"))    \n",
    "    b = int(input(\"Enter b:\"))    \n",
    "    c = a/b \n",
    "    print(c)\n",
    "except:  \n",
    "    print(\"Can't divide with zero\") "
   ]
  },
  {
   "cell_type": "code",
   "execution_count": 33,
   "metadata": {
    "id": "4ZZuRmx4t523"
   },
   "outputs": [
    {
     "name": "stdout",
     "output_type": "stream",
     "text": [
      "Second element = 2\n",
      "An error occurred\n"
     ]
    }
   ],
   "source": [
    "# Python program to handle simple runtime error\n",
    "#Python 3\n",
    "\n",
    "a = [1, 2, 3]\n",
    "try:\n",
    "    print (\"Second element = {0}\" .format(a[1]))\n",
    "\n",
    "# Throws error since there are only 3 elements in array\n",
    "    print (\"Fourth element = {0}\" .format(a[3]))\n",
    "\n",
    "except:\n",
    "    print (\"An error occurred\")"
   ]
  },
  {
   "cell_type": "markdown",
   "metadata": {},
   "source": [
    "## Try-except using else"
   ]
  },
  {
   "cell_type": "raw",
   "metadata": {},
   "source": [
    "We can also use the else statement with the try-except statement in which, we can place the code which will be executed in the scenario if no exception occurs in the try block.\n",
    "\n",
    "The syntax to use the else statement with the try-except statement is given below."
   ]
  },
  {
   "cell_type": "raw",
   "metadata": {},
   "source": [
    "try:    \n",
    "    #block of code     \n",
    "    \n",
    "except Exception1:    \n",
    "    #block of code     \n",
    "    \n",
    "else:    \n",
    "    #this code executes if no except block is executed"
   ]
  },
  {
   "cell_type": "raw",
   "metadata": {},
   "source": [
    "try:\n",
    "   You do your operations here;\n",
    "   ......................\n",
    "except ExceptionI:\n",
    "   If there is ExceptionI, then execute this block.\n",
    "except ExceptionII:\n",
    "   If there is ExceptionII, then execute this block.\n",
    "   ......................\n",
    "else:\n",
    "   If there is no exception then execute this block. \n",
    "\n",
    "\n",
    "The try block lets you test a block of code for errors.\n",
    "\n",
    "The except block lets you handle the error.\n",
    "\n",
    "The finally block lets you execute code, regardless of the result of the try- and except blocks."
   ]
  },
  {
   "attachments": {
    "try-except-e;se.png": {
     "image/png": "[encoded data removed]"
    }
   },
   "cell_type": "markdown",
   "metadata": {},
   "source": [
    "![try-except-e;se.png](attachment:try-except-e;se.png)"
   ]
  },
  {
   "cell_type": "code",
   "execution_count": 37,
   "metadata": {},
   "outputs": [
    {
     "name": "stdout",
     "output_type": "stream",
     "text": [
      "Enter a:1\n",
      "Enter b:11\n",
      "This is else block\n",
      "0.09090909090909091\n"
     ]
    }
   ],
   "source": [
    "try:  \n",
    "    a = int(input(\"Enter a:\"))    \n",
    "    b = int(input(\"Enter b:\"))    \n",
    "    c = a/b \n",
    "    \n",
    "except:  \n",
    "    print(\"Can't divide with zero\") \n",
    "    \n",
    "else:\n",
    "    print(\"This is else block\")\n",
    "    print(c)"
   ]
  },
  {
   "cell_type": "code",
   "execution_count": 38,
   "metadata": {
    "executionInfo": {
     "elapsed": 1941,
     "status": "ok",
     "timestamp": 1665410558203,
     "user": {
      "displayName": "Saunak Dutta",
      "userId": "14801554564735153679"
     },
     "user_tz": -330
    },
    "id": "2xFYrUCtkUQS"
   },
   "outputs": [],
   "source": [
    "def MyDivision(a, b):\n",
    "    try:\n",
    "        c = ( a / b )\n",
    "  \n",
    "    except ZeroDivisionError:\n",
    "        print(\"Division Not Defined with 0 as divisor\")\n",
    " \n",
    "    else:\n",
    "        return c"
   ]
  },
  {
   "cell_type": "code",
   "execution_count": 39,
   "metadata": {},
   "outputs": [
    {
     "name": "stdout",
     "output_type": "stream",
     "text": [
      "Division Not Defined with 0 as divisor\n"
     ]
    }
   ],
   "source": [
    "MyDivision(1,0)"
   ]
  },
  {
   "cell_type": "raw",
   "metadata": {},
   "source": [
    "Python provides the flexibility not to specify the name of exception with the exception statement."
   ]
  },
  {
   "cell_type": "code",
   "execution_count": null,
   "metadata": {},
   "outputs": [],
   "source": [
    "try:    \n",
    "    a = int(input(\"Enter a:\"))    \n",
    "    b = int(input(\"Enter b:\"))    \n",
    "    c = a/b   \n",
    "\n",
    "except :    \n",
    "    print(\"can't divide by zero\")     \n",
    "    \n",
    "else:    \n",
    "    print(\"Hi I am else block\")"
   ]
  },
  {
   "cell_type": "code",
   "execution_count": 41,
   "metadata": {},
   "outputs": [
    {
     "name": "stdout",
     "output_type": "stream",
     "text": [
      "File not found\n"
     ]
    }
   ],
   "source": [
    "try:    \n",
    "    #this will throw an exception if the file doesn't exist.     \n",
    "    fileptr = open(\"file.txt\",\"r\")    \n",
    "except :    \n",
    "    print(\"File not found\")    \n",
    "else:    \n",
    "    print(\"The file opened successfully\")    \n",
    "    fileptr.close()"
   ]
  },
  {
   "cell_type": "markdown",
   "metadata": {},
   "source": [
    "# The try...finally block"
   ]
  },
  {
   "cell_type": "raw",
   "metadata": {},
   "source": [
    "1. Python provides the optional finally statement, which is used with the try statement. \n",
    "\n",
    "2. It is executed no matter what exception occurs and used to release the external resource. \n",
    "\n",
    "3. The finally block provides a guarantee of the execution.\n",
    "\n",
    "4. We can use the finally block with the try block in which we can pace the necessary code, which must be executed before the try statement throws an exception.\n",
    "\n",
    "The syntax to use the finally block is given below."
   ]
  },
  {
   "cell_type": "raw",
   "metadata": {},
   "source": [
    "Syntax\n",
    "\n",
    "try:    \n",
    "    # block of code     \n",
    "    # this may throw an exception    \n",
    "    \n",
    "finally:    \n",
    "    # block of code    \n",
    "    # this will always be executed"
   ]
  },
  {
   "attachments": {
    "try-except-else-finally.png": {
     "image/png": "[encoded data removed]"
    }
   },
   "cell_type": "markdown",
   "metadata": {},
   "source": [
    "![try-except-else-finally.png](attachment:try-except-else-finally.png)"
   ]
  },
  {
   "cell_type": "raw",
   "metadata": {},
   "source": [
    "try:\n",
    "    #statements in try block\n",
    "except:\n",
    "    #executed when error in try block\n",
    "else:\n",
    "    #executed if try block is error-free\n",
    "finally:\n",
    "    #executed irrespective of exception occured or not"
   ]
  },
  {
   "cell_type": "code",
   "execution_count": 47,
   "metadata": {},
   "outputs": [
    {
     "name": "stdout",
     "output_type": "stream",
     "text": [
      "This is try block\n",
      "Enter a number: 1\n",
      "Enter another number: 0\n",
      "'\n",
      "'\n",
      "This is Except block -----> ZeroDivisionError occured\n",
      "Division by 0 not accepted\n",
      "\n",
      "\n",
      "finally block \n",
      "\n",
      "Out of try, except, else and finally blocks.\n"
     ]
    }
   ],
   "source": [
    "try:\n",
    "    print(\"This is try block\")\n",
    "    x=int(input('Enter a number: '))\n",
    "    y=int(input('Enter another number: '))\n",
    "    print(\"'\\n'\")\n",
    "    z=x/y\n",
    "except ZeroDivisionError:\n",
    "    print(\"This is Except block -----> ZeroDivisionError occured\")\n",
    "    print(\"Division by 0 not accepted\\n\\n\")\n",
    "else:\n",
    "    print(\"This is Else block \\n\")\n",
    "    print(\"Division of a and b = \", z)\n",
    "    print(\"\\n\")\n",
    "finally:\n",
    "    print(\"finally block \\n\")\n",
    "\n",
    "    \n",
    "    \n",
    "    \n",
    "print (\"Out of try, except, else and finally blocks.\" )"
   ]
  },
  {
   "cell_type": "markdown",
   "metadata": {},
   "source": [
    "# Raising exceptions\n"
   ]
  },
  {
   "cell_type": "raw",
   "metadata": {},
   "source": [
    "1. An exception can be raised forcefully by using the raise clause in Python. \n",
    "\n",
    "2. It is useful in that scenario where we need to raise an exception to stop the execution of the program.\n",
    "\n",
    "3. For example, there is a program that requires 2GB memory for execution, and if the program tries to occupy 2GB of memory, then we can raise an exception to stop the execution of the program."
   ]
  },
  {
   "cell_type": "raw",
   "metadata": {},
   "source": [
    "1. To raise an exception, the raise statement is used. The exception class name follows it.\n",
    "\n",
    "2. An exception can be provided with a value that can be given in the parenthesis."
   ]
  },
  {
   "cell_type": "code",
   "execution_count": 50,
   "metadata": {},
   "outputs": [
    {
     "name": "stdout",
     "output_type": "stream",
     "text": [
      "Enter the age:14\n",
      "The age is not valid\n"
     ]
    }
   ],
   "source": [
    "#Example\n",
    "\n",
    "try:    \n",
    "    age = int(input(\"Enter the age:\"))    \n",
    "    if(age<18):    \n",
    "        raise ValueError('value error')   \n",
    "    else:    \n",
    "        print(\"the age is valid\")    \n",
    "except ValueError:    \n",
    "    print(\"The age is not valid\")    "
   ]
  },
  {
   "cell_type": "code",
   "execution_count": 52,
   "metadata": {},
   "outputs": [
    {
     "name": "stdout",
     "output_type": "stream",
     "text": [
      "Enter a positive integer: -5\n",
      "Error occured in try statement, so except statement is executed\n"
     ]
    }
   ],
   "source": [
    "#Example 2 Raise the exception with message\n",
    "\n",
    "try:\n",
    "    num = int(input(\"Enter a positive integer: \"))  \n",
    "    if(num <= 0):  \n",
    "        raise ValueError(\"That is a negative number!\")  \n",
    "except ValueError:  \n",
    "     print('Error occured in try statement, so except statement is executed')  "
   ]
  },
  {
   "cell_type": "code",
   "execution_count": 57,
   "metadata": {},
   "outputs": [
    {
     "name": "stdout",
     "output_type": "stream",
     "text": [
      "Enter a:1\n",
      "Enter b:0\n",
      "The value of b can't be 0\n"
     ]
    }
   ],
   "source": [
    "#Example 3\n",
    "\n",
    "try:    \n",
    "    a = int(input(\"Enter a:\"))    \n",
    "    b = int(input(\"Enter b:\"))    \n",
    "    if b == 0:    \n",
    "        raise ArithmeticError  \n",
    "    else:    \n",
    "        print(\"a/b : \",a/b)    \n",
    "except ArithmeticError:    \n",
    "    print(\"The value of b can't be 0\")"
   ]
  },
  {
   "cell_type": "code",
   "execution_count": 50,
   "metadata": {},
   "outputs": [],
   "source": [
    "def get_grade(score):\n",
    "    if score>70:\n",
    "        return \"A\"\n",
    "    if score>=50 and score<=70:\n",
    "        return \"B\"\n",
    "    if score<50:\n",
    "        return \"C\""
   ]
  },
  {
   "cell_type": "code",
   "execution_count": 51,
   "metadata": {},
   "outputs": [
    {
     "data": {
      "text/plain": [
       "'A'"
      ]
     },
     "execution_count": 51,
     "metadata": {},
     "output_type": "execute_result"
    }
   ],
   "source": [
    "get_grade(90)"
   ]
  },
  {
   "cell_type": "code",
   "execution_count": 39,
   "metadata": {},
   "outputs": [
    {
     "data": {
      "text/plain": [
       "'C'"
      ]
     },
     "execution_count": 39,
     "metadata": {},
     "output_type": "execute_result"
    }
   ],
   "source": [
    "get_grade(23)"
   ]
  },
  {
   "cell_type": "code",
   "execution_count": 40,
   "metadata": {},
   "outputs": [
    {
     "data": {
      "text/plain": [
       "'A'"
      ]
     },
     "execution_count": 40,
     "metadata": {},
     "output_type": "execute_result"
    }
   ],
   "source": [
    "get_grade(200)"
   ]
  },
  {
   "cell_type": "code",
   "execution_count": 62,
   "metadata": {},
   "outputs": [],
   "source": [
    "# try to raise value error in the above function if the input is is greate than 100 and less than 0\n",
    "\n",
    "def get_grade(score):\n",
    "    if score<0 or score>100:\n",
    "        raise ValueError(\"Invalid score\")\n",
    "\n",
    "    if score>70:\n",
    "        return \"A\"\n",
    "    if score>=50 and score<=70:\n",
    "        return \"B\"\n",
    "    if score<50:\n",
    "        return \"C\""
   ]
  },
  {
   "cell_type": "code",
   "execution_count": 63,
   "metadata": {},
   "outputs": [
    {
     "ename": "ValueError",
     "evalue": "Invalid score",
     "output_type": "error",
     "traceback": [
      "\u001b[1;31m---------------------------------------------------------------------------\u001b[0m",
      "\u001b[1;31mValueError\u001b[0m                                Traceback (most recent call last)",
      "Input \u001b[1;32mIn [63]\u001b[0m, in \u001b[0;36m<cell line: 1>\u001b[1;34m()\u001b[0m\n\u001b[1;32m----> 1\u001b[0m \u001b[43mget_grade\u001b[49m\u001b[43m(\u001b[49m\u001b[38;5;241;43m200\u001b[39;49m\u001b[43m)\u001b[49m\n",
      "Input \u001b[1;32mIn [62]\u001b[0m, in \u001b[0;36mget_grade\u001b[1;34m(score)\u001b[0m\n\u001b[0;32m      3\u001b[0m \u001b[38;5;28;01mdef\u001b[39;00m \u001b[38;5;21mget_grade\u001b[39m(score):\n\u001b[0;32m      4\u001b[0m     \u001b[38;5;28;01mif\u001b[39;00m score\u001b[38;5;241m<\u001b[39m\u001b[38;5;241m0\u001b[39m \u001b[38;5;129;01mor\u001b[39;00m score\u001b[38;5;241m>\u001b[39m\u001b[38;5;241m100\u001b[39m:\n\u001b[1;32m----> 5\u001b[0m         \u001b[38;5;28;01mraise\u001b[39;00m \u001b[38;5;167;01mValueError\u001b[39;00m(\u001b[38;5;124m\"\u001b[39m\u001b[38;5;124mInvalid score\u001b[39m\u001b[38;5;124m\"\u001b[39m)\n\u001b[0;32m      7\u001b[0m     \u001b[38;5;28;01mif\u001b[39;00m score\u001b[38;5;241m>\u001b[39m\u001b[38;5;241m70\u001b[39m:\n\u001b[0;32m      8\u001b[0m         \u001b[38;5;28;01mreturn\u001b[39;00m \u001b[38;5;124m\"\u001b[39m\u001b[38;5;124mA\u001b[39m\u001b[38;5;124m\"\u001b[39m\n",
      "\u001b[1;31mValueError\u001b[0m: Invalid score"
     ]
    }
   ],
   "source": [
    "get_grade(200)"
   ]
  },
  {
   "cell_type": "markdown",
   "metadata": {
    "id": "n0x1tWfycYmk"
   },
   "source": [
    "#### Lambda(): The Anonymous Function\n",
    "\n",
    "##### Syntax: \n",
    "         lambda arguments: expression"
   ]
  },
  {
   "cell_type": "code",
   "execution_count": null,
   "metadata": {
    "colab": {
     "base_uri": "https://localhost:8080/"
    },
    "executionInfo": {
     "elapsed": 4,
     "status": "ok",
     "timestamp": 1665481099588,
     "user": {
      "displayName": "Saunak Dutta",
      "userId": "14801554564735153679"
     },
     "user_tz": -330
    },
    "id": "8L1As1iLdGq9",
    "outputId": "232e81fa-4b13-4176-9e53-b3015ee752ac"
   },
   "outputs": [
    {
     "data": {
      "text/plain": [
       "6.25"
      ]
     },
     "execution_count": 1,
     "metadata": {},
     "output_type": "execute_result"
    }
   ],
   "source": [
    "MyList = [1, 5, 4, 6, 8, 11, 3, 12]\n",
    "\n",
    "MyAvg = lambda L: sum(L)/len(L)\n",
    "\n",
    "mean = MyAvg(MyList)\n",
    "\n",
    "mean"
   ]
  },
  {
   "cell_type": "code",
   "execution_count": 67,
   "metadata": {},
   "outputs": [
    {
     "data": {
      "text/plain": [
       "[11, 12, 13, 1, 2, 3]"
      ]
     },
     "execution_count": 67,
     "metadata": {},
     "output_type": "execute_result"
    }
   ],
   "source": [
    "a = [11, 12, 13]\n",
    "\n",
    "b = [1, 2, 3]\n",
    "\n",
    "concatination = lambda L , A: L+A\n",
    "\n",
    "conc = concatination(a, b)\n",
    "\n",
    "conc"
   ]
  },
  {
   "cell_type": "code",
   "execution_count": 68,
   "metadata": {},
   "outputs": [
    {
     "data": {
      "text/plain": [
       "[11, 12, 13, 1, 2, 3]"
      ]
     },
     "execution_count": 68,
     "metadata": {},
     "output_type": "execute_result"
    }
   ],
   "source": [
    "a + b"
   ]
  },
  {
   "cell_type": "markdown",
   "metadata": {
    "id": "LmLCEyIBhTEr"
   },
   "source": [
    "#### Filter():  Takes in a function and a list as arguments, the function is acted on all the elements in the list, a new list containing elements for which the function evaluates \"True\" is returned"
   ]
  },
  {
   "cell_type": "code",
   "execution_count": 70,
   "metadata": {
    "colab": {
     "base_uri": "https://localhost:8080/"
    },
    "executionInfo": {
     "elapsed": 4,
     "status": "ok",
     "timestamp": 1665481298808,
     "user": {
      "displayName": "Saunak Dutta",
      "userId": "14801554564735153679"
     },
     "user_tz": -330
    },
    "id": "_L-mjO3TZc2y",
    "outputId": "72cd687f-2e00-42f5-ce60-bbe7398a7b78"
   },
   "outputs": [
    {
     "data": {
      "text/plain": [
       "[4, 6, 8, 12]"
      ]
     },
     "execution_count": 70,
     "metadata": {},
     "output_type": "execute_result"
    }
   ],
   "source": [
    "MyList = [1, 5, 4, 6, 8, 11, 3, 12]\n",
    "\n",
    "ConstrList = list(filter(lambda x: x % 2 == 0, MyList))\n",
    "\n",
    "ConstrList"
   ]
  },
  {
   "cell_type": "markdown",
   "metadata": {
    "id": "muwxix_maz_K"
   },
   "source": [
    "##### Map(): Accepts a function and a sequence of iterables as parameters, then apply the function to each iterable in the sequence"
   ]
  },
  {
   "cell_type": "code",
   "execution_count": 1,
   "metadata": {
    "colab": {
     "base_uri": "https://localhost:8080/"
    },
    "executionInfo": {
     "elapsed": 29,
     "status": "ok",
     "timestamp": 1665105078643,
     "user": {
      "displayName": "bhanuprasad ram",
      "userId": "14160651101586269749"
     },
     "user_tz": -330
    },
    "id": "1wcxlUm-aGB1",
    "outputId": "f1e3060a-7ea8-4235-db81-2f7addb9db6a"
   },
   "outputs": [
    {
     "data": {
      "text/plain": [
       "(8, 10, 25, 100, 57, 65, 80, 26, 76, 64)"
      ]
     },
     "execution_count": 1,
     "metadata": {},
     "output_type": "execute_result"
    }
   ],
   "source": [
    "MyTuple = (5, 7, 22, 97, 54, 62, 77, 23, 73, 61)\n",
    "\n",
    "NewTuple = tuple(map(lambda x: x+3 , MyTuple))\n",
    "\n",
    "NewTuple"
   ]
  },
  {
   "cell_type": "markdown",
   "metadata": {
    "id": "G2yF8r4MkDrd"
   },
   "source": [
    "#### The reduce() Function:"
   ]
  },
  {
   "cell_type": "code",
   "execution_count": null,
   "metadata": {
    "colab": {
     "base_uri": "https://localhost:8080/"
    },
    "executionInfo": {
     "elapsed": 5,
     "status": "ok",
     "timestamp": 1665481715222,
     "user": {
      "displayName": "Saunak Dutta",
      "userId": "14801554564735153679"
     },
     "user_tz": -330
    },
    "id": "nartSii3i5Xr",
    "outputId": "f18a59ed-8839-4372-ba09-cdc1acd3d9ba"
   },
   "outputs": [
    {
     "data": {
      "text/plain": [
       "187"
      ]
     },
     "execution_count": 11,
     "metadata": {},
     "output_type": "execute_result"
    }
   ],
   "source": [
    "from functools import reduce\n",
    "\n",
    "NewList = [23, 21, 45, 98]\n",
    "\n",
    "reduce(lambda a, b: a + b, NewList)"
   ]
  },
  {
   "cell_type": "markdown",
   "metadata": {
    "id": "CGfM4jv1lGST"
   },
   "source": [
    "![reduce_example.png](data:image/png;base64,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)"
   ]
  }
 ],
 "metadata": {
  "colab": {
   "authorship_tag": "ABX9TyMBKyKdQUy2Tmueh291SEhn",
   "collapsed_sections": [],
   "provenance": []
  },
  "kernelspec": {
   "display_name": "Python 3 (ipykernel)",
   "language": "python",
   "name": "python3"
  },
  "language_info": {
   "codemirror_mode": {
    "name": "ipython",
    "version": 3
   },
   "file_extension": ".py",
   "mimetype": "text/x-python",
   "name": "python",
   "nbconvert_exporter": "python",
   "pygments_lexer": "ipython3",
   "version": "3.9.12"
  }
 },
 "nbformat": 4,
 "nbformat_minor": 1
}
